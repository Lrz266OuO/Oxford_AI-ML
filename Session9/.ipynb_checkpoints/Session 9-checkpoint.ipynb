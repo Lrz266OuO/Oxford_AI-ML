{
 "cells": [
  {
   "cell_type": "markdown",
   "id": "8ab5fbe0",
   "metadata": {},
   "source": [
    "# 1 Perceptrons"
   ]
  },
  {
   "cell_type": "markdown",
   "id": "fbabfb1c",
   "metadata": {},
   "source": [
    "## 1.1 Importing Libraries and Loading Data"
   ]
  },
  {
   "cell_type": "code",
   "execution_count": 1,
   "id": "198e0661",
   "metadata": {},
   "outputs": [],
   "source": [
    "import matplotlib.pyplot as plt\n",
    "from sklearn.datasets import make_blobs"
   ]
  },
  {
   "cell_type": "markdown",
   "id": "dd3de11e",
   "metadata": {},
   "source": [
    "## 1.2 Generating data"
   ]
  },
  {
   "cell_type": "code",
   "execution_count": 2,
   "id": "0625effb",
   "metadata": {},
   "outputs": [],
   "source": [
    "n_samples = 200\n",
    "cluster_1_centre = [2,2]\n",
    "cluster_2_centre = [6,6]\n",
    "spread = 1\n",
    "\n",
    "data,labels = make_blobs(n_samples=n_samples, centers=(cluster_1_centre, cluster_2_centre), cluster_std=spread, random_state=0)"
   ]
  },
  {
   "cell_type": "code",
   "execution_count": 3,
   "id": "8479e839",
   "metadata": {},
   "outputs": [
    {
     "data": {
      "text/plain": [
       "array([[4.26975462, 0.54563433],\n",
       "       [6.27451636, 5.10908492],\n",
       "       [2.06651722, 2.3024719 ],\n",
       "       [0.77456448, 2.84436298],\n",
       "       [1.19659034, 1.31045022]])"
      ]
     },
     "execution_count": 3,
     "metadata": {},
     "output_type": "execute_result"
    }
   ],
   "source": [
    "data[0:5]"
   ]
  },
  {
   "cell_type": "code",
   "execution_count": 4,
   "id": "3cbb2950",
   "metadata": {},
   "outputs": [
    {
     "data": {
      "text/plain": [
       "array([0, 1, 0, 0, 0])"
      ]
     },
     "execution_count": 4,
     "metadata": {},
     "output_type": "execute_result"
    }
   ],
   "source": [
    "labels[0:5]"
   ]
  },
  {
   "cell_type": "code",
   "execution_count": 5,
   "id": "a5ffc844",
   "metadata": {},
   "outputs": [],
   "source": [
    "colours = ('green', 'red')"
   ]
  },
  {
   "cell_type": "code",
   "execution_count": 6,
   "id": "e3b0455c",
   "metadata": {},
   "outputs": [
    {
     "data": {
      "image/png": "[encoded data removed]",
      "text/plain": [
       "<Figure size 432x288 with 1 Axes>"
      ]
     },
     "metadata": {
      "needs_background": "light"
     },
     "output_type": "display_data"
    }
   ],
   "source": [
    "fig,ax = plt.subplots()\n",
    "for n_class in range(2):\n",
    "    plt.scatter(data[labels==n_class][:,0],data[labels==n_class][:,1],c=colours[n_class],s=20,label=str(n_class))"
   ]
  },
  {
   "cell_type": "markdown",
   "id": "c294c61d",
   "metadata": {},
   "source": [
    "## 1.3 Human Powered Perception"
   ]
  },
  {
   "cell_type": "code",
   "execution_count": 7,
   "id": "82b14e06",
   "metadata": {},
   "outputs": [],
   "source": [
    "theta_0 = -4\n",
    "theta_1 = 2.3\n",
    "theta_2 = 4.2"
   ]
  },
  {
   "cell_type": "code",
   "execution_count": 8,
   "id": "72afb9f6",
   "metadata": {},
   "outputs": [],
   "source": [
    "net_input = theta_0+theta_1*data[:,0]+theta_2*data[:,1]\n",
    "classification = list(map(lambda x:1 if x>0 else 0, net_input))"
   ]
  },
  {
   "cell_type": "code",
   "execution_count": 9,
   "id": "35c1cbf2",
   "metadata": {},
   "outputs": [
    {
     "name": "stdout",
     "output_type": "stream",
     "text": [
      "[1, 1, 1, 1, 1, 1, 1, 1, 1, 1, 1, 1, 1, 1, 1, 1, 1, 1, 1, 1, 1, 1, 1, 1, 1, 1, 1, 1, 0, 1, 1, 1, 1, 1, 1, 1, 1, 1, 1, 1, 1, 1, 1, 1, 1, 1, 1, 1, 1, 1, 1, 1, 1, 1, 1, 1, 1, 1, 1, 1, 1, 1, 1, 1, 1, 1, 1, 1, 1, 1, 1, 1, 1, 1, 1, 1, 1, 1, 1, 1, 1, 1, 1, 1, 1, 1, 1, 1, 1, 1, 1, 1, 1, 1, 1, 1, 1, 1, 1, 1, 1, 1, 0, 1, 1, 1, 1, 1, 1, 1, 1, 1, 1, 1, 1, 1, 1, 1, 1, 1, 1, 1, 1, 1, 1, 1, 1, 0, 1, 1, 1, 1, 1, 1, 1, 1, 1, 1, 1, 1, 1, 1, 1, 1, 1, 1, 1, 1, 1, 1, 1, 1, 1, 1, 1, 1, 1, 1, 1, 1, 1, 1, 1, 1, 1, 1, 1, 1, 1, 1, 1, 1, 1, 1, 1, 1, 1, 1, 1, 1, 1, 1, 1, 1, 1, 1, 1, 1, 1, 1, 1, 1, 1, 1, 1, 1, 1, 1, 1, 1]\n"
     ]
    }
   ],
   "source": [
    "print(classification)"
   ]
  },
  {
   "cell_type": "code",
   "execution_count": 10,
   "id": "45550d43",
   "metadata": {},
   "outputs": [
    {
     "data": {
      "text/plain": [
       "103"
      ]
     },
     "execution_count": 10,
     "metadata": {},
     "output_type": "execute_result"
    }
   ],
   "source": [
    "number_correct = sum(x==y for x,y in zip(labels, classification))\n",
    "number_correct"
   ]
  },
  {
   "cell_type": "code",
   "execution_count": 11,
   "id": "276e66e0",
   "metadata": {},
   "outputs": [
    {
     "data": {
      "text/plain": [
       "0.515"
      ]
     },
     "execution_count": 11,
     "metadata": {},
     "output_type": "execute_result"
    }
   ],
   "source": [
    "score = number_correct/n_samples\n",
    "score"
   ]
  },
  {
   "cell_type": "markdown",
   "id": "006f89cb",
   "metadata": {},
   "source": [
    "## 1.4 Using sklearn to fit the perceptron"
   ]
  },
  {
   "cell_type": "code",
   "execution_count": 12,
   "id": "c1c3f1e8",
   "metadata": {},
   "outputs": [],
   "source": [
    "from sklearn.model_selection import train_test_split\n",
    "datasets = train_test_split(data, labels, test_size=0.2)\n",
    "train_data, test_data, train_labels, test_labels = datasets"
   ]
  },
  {
   "cell_type": "code",
   "execution_count": 13,
   "id": "5c851027",
   "metadata": {},
   "outputs": [],
   "source": [
    "from sklearn.linear_model import Perceptron\n",
    "p = Perceptron(random_state=42, max_iter=500, tol=1)\n",
    "p.fit(train_data, train_labels);"
   ]
  },
  {
   "cell_type": "code",
   "execution_count": 14,
   "id": "a9b60527",
   "metadata": {},
   "outputs": [
    {
     "name": "stdout",
     "output_type": "stream",
     "text": [
      "theta_1 = 4.423732140750222\n",
      "theta_2 = 5.126100696055874\n"
     ]
    }
   ],
   "source": [
    "print('theta_1 =',p.coef_[0][0])\n",
    "print('theta_2 =',p.coef_[0][1])"
   ]
  },
  {
   "cell_type": "code",
   "execution_count": 15,
   "id": "965b1534",
   "metadata": {},
   "outputs": [
    {
     "name": "stdout",
     "output_type": "stream",
     "text": [
      "theta_0 = -36.0\n"
     ]
    }
   ],
   "source": [
    "print('theta_0 =', p.intercept_[0])"
   ]
  },
  {
   "cell_type": "code",
   "execution_count": 16,
   "id": "8a043fb8",
   "metadata": {},
   "outputs": [
    {
     "name": "stdout",
     "output_type": "stream",
     "text": [
      "score on train data: 1.0\n",
      "score on test data:  [[6.56729028 5.7773249 ]\n",
      " [6.68981816 7.30184623]\n",
      " [4.81114074 5.49318365]\n",
      " [6.52106488 5.42421203]\n",
      " [1.50196755 3.92953205]\n",
      " [5.52034419 6.6203583 ]\n",
      " [5.31216239 4.7859226 ]\n",
      " [1.61267318 1.69769725]\n",
      " [7.15233156 7.07961859]\n",
      " [6.03863055 4.3432849 ]\n",
      " [2.3563664  2.70657317]\n",
      " [5.88945934 7.02017271]\n",
      " [5.95782855 5.71311281]\n",
      " [4.38314477 2.94447949]\n",
      " [5.18663574 4.53357567]\n",
      " [1.25524518 1.17356146]\n",
      " [1.65208785 2.15634897]\n",
      " [6.84163126 5.75054142]\n",
      " [1.18685372 0.2737174 ]\n",
      " [5.044055   5.65401822]\n",
      " [3.86755896 2.90604466]\n",
      " [2.01050002 3.78587049]\n",
      " [5.80934651 5.60515049]\n",
      " [1.49034782 1.5619257 ]\n",
      " [3.96931553 8.06449286]\n",
      " [5.3159891  7.6595508 ]\n",
      " [2.20827498 2.97663904]\n",
      " [2.15494743 2.37816252]\n",
      " [3.8831507  0.65224094]\n",
      " [0.95144703 0.57998206]\n",
      " [5.30795015 7.53637705]\n",
      " [4.95474663 7.21114529]\n",
      " [0.74720464 2.77749036]\n",
      " [5.70816264 5.23850779]\n",
      " [5.29529972 6.94326072]\n",
      " [6.39904635 3.22740724]\n",
      " [3.53277921 3.46935877]\n",
      " [2.29823817 3.3263859 ]\n",
      " [0.68409259 1.5384154 ]\n",
      " [7.36453185 5.31055082]]\n"
     ]
    }
   ],
   "source": [
    "from sklearn.metrics import accuracy_score\n",
    "\n",
    "prediction_train = p.predict(train_data)\n",
    "prediction_test = p.predict(test_data)\n",
    "\n",
    "train_score = accuracy_score(prediction_train, train_labels)\n",
    "print(\"score on train data:\", train_score)\n",
    "test_score = accuracy_score(prediction_test, test_labels)\n",
    "print(\"score on test data: \", test_data)"
   ]
  },
  {
   "cell_type": "markdown",
   "id": "1e60176b",
   "metadata": {},
   "source": [
    "# 2 Keras and Deep Neural Networks"
   ]
  },
  {
   "cell_type": "code",
   "execution_count": 17,
   "id": "c4b1ec0b",
   "metadata": {},
   "outputs": [
    {
     "ename": "ModuleNotFoundError",
     "evalue": "No module named 'tensorflow'",
     "output_type": "error",
     "traceback": [
      "\u001b[1;31m---------------------------------------------------------------------------\u001b[0m",
      "\u001b[1;31mModuleNotFoundError\u001b[0m                       Traceback (most recent call last)",
      "\u001b[1;32m~\\AppData\\Local\\Temp/ipykernel_11228/1126277246.py\u001b[0m in \u001b[0;36m<module>\u001b[1;34m\u001b[0m\n\u001b[1;32m----> 1\u001b[1;33m \u001b[1;32mimport\u001b[0m \u001b[0mtensorflow\u001b[0m\u001b[1;33m.\u001b[0m\u001b[0mkeras\u001b[0m \u001b[1;32mas\u001b[0m \u001b[0mkeras\u001b[0m\u001b[1;33m\u001b[0m\u001b[1;33m\u001b[0m\u001b[0m\n\u001b[0m\u001b[0;32m      2\u001b[0m \u001b[1;32mfrom\u001b[0m \u001b[0mtensorflow\u001b[0m\u001b[1;33m.\u001b[0m\u001b[0mkeras\u001b[0m\u001b[1;33m.\u001b[0m\u001b[0mmodels\u001b[0m \u001b[1;32mimport\u001b[0m \u001b[0mSequential\u001b[0m\u001b[1;33m\u001b[0m\u001b[1;33m\u001b[0m\u001b[0m\n\u001b[0;32m      3\u001b[0m \u001b[1;32mfrom\u001b[0m \u001b[0mtensorflow\u001b[0m\u001b[1;33m.\u001b[0m\u001b[0mkeras\u001b[0m\u001b[1;33m.\u001b[0m\u001b[0mlayers\u001b[0m \u001b[1;32mimport\u001b[0m \u001b[0mConv2D\u001b[0m\u001b[1;33m,\u001b[0m \u001b[0mMaxPooling2D\u001b[0m\u001b[1;33m,\u001b[0m \u001b[0mFlatten\u001b[0m\u001b[1;33m,\u001b[0m \u001b[0mDropout\u001b[0m\u001b[1;33m\u001b[0m\u001b[1;33m\u001b[0m\u001b[0m\n\u001b[0;32m      4\u001b[0m \u001b[1;32mfrom\u001b[0m \u001b[0mtensorflow\u001b[0m\u001b[1;33m.\u001b[0m\u001b[0mkeras\u001b[0m\u001b[1;33m.\u001b[0m\u001b[0moptimizers\u001b[0m \u001b[1;32mimport\u001b[0m \u001b[0mAdam\u001b[0m\u001b[1;33m\u001b[0m\u001b[1;33m\u001b[0m\u001b[0m\n\u001b[0;32m      5\u001b[0m \u001b[1;32mimport\u001b[0m \u001b[0mnumpy\u001b[0m \u001b[1;32mas\u001b[0m \u001b[0mnp\u001b[0m\u001b[1;33m\u001b[0m\u001b[1;33m\u001b[0m\u001b[0m\n",
      "\u001b[1;31mModuleNotFoundError\u001b[0m: No module named 'tensorflow'"
     ]
    }
   ],
   "source": [
    "import tensorflow.keras as keras\n",
    "from tensorflow.keras.models import Sequential\n",
    "from tensorflow.keras.layers import Conv2D, MaxPooling2D, Flatten, Dropout\n",
    "from tensorflow.keras.optimizers import Adam\n",
    "import numpy as np\n",
    "import matplotlib.pyplot as plt\n",
    "import pandas as pd"
   ]
  },
  {
   "cell_type": "code",
   "execution_count": null,
   "id": "7f4687ae",
   "metadata": {},
   "outputs": [],
   "source": []
  }
 ],
 "metadata": {
  "kernelspec": {
   "display_name": "Python 3 (ipykernel)",
   "language": "python",
   "name": "python3"
  },
  "language_info": {
   "codemirror_mode": {
    "name": "ipython",
    "version": 3
   },
   "file_extension": ".py",
   "mimetype": "text/x-python",
   "name": "python",
   "nbconvert_exporter": "python",
   "pygments_lexer": "ipython3",
   "version": "3.9.7"
  }
 },
 "nbformat": 4,
 "nbformat_minor": 5
}
