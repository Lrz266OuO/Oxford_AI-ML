{
 "cells": [
  {
   "cell_type": "markdown",
   "id": "2d423a35",
   "metadata": {},
   "source": [
    "# 1 Creation of the Learning Environment"
   ]
  },
  {
   "cell_type": "code",
   "execution_count": 1,
   "id": "983417ce",
   "metadata": {},
   "outputs": [],
   "source": [
    "import gym\n",
    "import numpy as np\n",
    "import pandas as pd"
   ]
  },
  {
   "cell_type": "code",
   "execution_count": 2,
   "id": "5cb2ce2d",
   "metadata": {},
   "outputs": [],
   "source": [
    "env = gym.make('CartPole-v1')"
   ]
  },
  {
   "cell_type": "code",
   "execution_count": 3,
   "id": "290d325e",
   "metadata": {},
   "outputs": [
    {
     "data": {
      "text/plain": [
       "array([-0.00441444,  0.04358954, -0.00100114, -0.04720588], dtype=float32)"
      ]
     },
     "execution_count": 3,
     "metadata": {},
     "output_type": "execute_result"
    }
   ],
   "source": [
    "obs = env.reset()\n",
    "obs"
   ]
  },
  {
   "cell_type": "code",
   "execution_count": 4,
   "id": "2e045b4f",
   "metadata": {},
   "outputs": [],
   "source": [
    "def showObs(theObs):\n",
    "    print('Position       =', theObs[0], '0 = centre, >0 = means to the right')\n",
    "    print('Speed          =', theObs[1])\n",
    "    print('Angle          =', theObs[2])\n",
    "    print('Rotation speed =', theObs[3])"
   ]
  },
  {
   "cell_type": "code",
   "execution_count": 5,
   "id": "489b9755",
   "metadata": {},
   "outputs": [
    {
     "name": "stdout",
     "output_type": "stream",
     "text": [
      "Position       = -0.004414436 0 = centre, >0 = means to the right\n",
      "Speed          = 0.043589536\n",
      "Angle          = -0.0010011417\n",
      "Rotation speed = -0.04720588\n"
     ]
    }
   ],
   "source": [
    "showObs(obs)"
   ]
  },
  {
   "cell_type": "code",
   "execution_count": 6,
   "id": "025681f7",
   "metadata": {},
   "outputs": [
    {
     "data": {
      "text/plain": [
       "Discrete(2)"
      ]
     },
     "execution_count": 6,
     "metadata": {},
     "output_type": "execute_result"
    }
   ],
   "source": [
    "env.action_space"
   ]
  },
  {
   "cell_type": "code",
   "execution_count": 7,
   "id": "c9206a87",
   "metadata": {},
   "outputs": [
    {
     "data": {
      "text/plain": [
       "2"
      ]
     },
     "execution_count": 7,
     "metadata": {},
     "output_type": "execute_result"
    }
   ],
   "source": [
    "env.action_space.n"
   ]
  },
  {
   "cell_type": "code",
   "execution_count": 8,
   "id": "32136cb5",
   "metadata": {},
   "outputs": [],
   "source": [
    "push_left = 0\n",
    "push_right = 1"
   ]
  },
  {
   "cell_type": "code",
   "execution_count": 9,
   "id": "2b095d5c",
   "metadata": {},
   "outputs": [
    {
     "data": {
      "text/plain": [
       "array([-4.8000002e+00, -3.4028235e+38, -4.1887903e-01, -3.4028235e+38],\n",
       "      dtype=float32)"
      ]
     },
     "execution_count": 9,
     "metadata": {},
     "output_type": "execute_result"
    }
   ],
   "source": [
    "env.observation_space.low"
   ]
  },
  {
   "cell_type": "code",
   "execution_count": 10,
   "id": "7610053f",
   "metadata": {},
   "outputs": [
    {
     "data": {
      "text/plain": [
       "array([4.8000002e+00, 3.4028235e+38, 4.1887903e-01, 3.4028235e+38],\n",
       "      dtype=float32)"
      ]
     },
     "execution_count": 10,
     "metadata": {},
     "output_type": "execute_result"
    }
   ],
   "source": [
    "env.observation_space.high"
   ]
  },
  {
   "cell_type": "code",
   "execution_count": 11,
   "id": "c217fb55",
   "metadata": {},
   "outputs": [],
   "source": [
    "action = push_right\n",
    "obs, reward, done, info = env.step(action)"
   ]
  },
  {
   "cell_type": "code",
   "execution_count": 12,
   "id": "3f9a32a2",
   "metadata": {},
   "outputs": [
    {
     "name": "stdout",
     "output_type": "stream",
     "text": [
      "Position       = -0.0035426451 0 = centre, >0 = means to the right\n",
      "Speed          = 0.23872583\n",
      "Angle          = -0.0019452594\n",
      "Rotation speed = -0.3402045\n"
     ]
    }
   ],
   "source": [
    "showObs(obs)"
   ]
  },
  {
   "cell_type": "code",
   "execution_count": 13,
   "id": "cf46169e",
   "metadata": {},
   "outputs": [
    {
     "data": {
      "text/plain": [
       "1.0"
      ]
     },
     "execution_count": 13,
     "metadata": {},
     "output_type": "execute_result"
    }
   ],
   "source": [
    "reward"
   ]
  },
  {
   "cell_type": "code",
   "execution_count": 14,
   "id": "e62b000b",
   "metadata": {},
   "outputs": [
    {
     "data": {
      "text/plain": [
       "False"
      ]
     },
     "execution_count": 14,
     "metadata": {},
     "output_type": "execute_result"
    }
   ],
   "source": [
    "done"
   ]
  },
  {
   "cell_type": "code",
   "execution_count": 15,
   "id": "0dc18539",
   "metadata": {},
   "outputs": [
    {
     "data": {
      "text/plain": [
       "{}"
      ]
     },
     "execution_count": 15,
     "metadata": {},
     "output_type": "execute_result"
    }
   ],
   "source": [
    "info"
   ]
  },
  {
   "cell_type": "markdown",
   "id": "0a9f144a",
   "metadata": {},
   "source": [
    "# 2 A simple attempt at controlling the cart-pole (Does not work!)"
   ]
  },
  {
   "cell_type": "code",
   "execution_count": 16,
   "id": "27614fa2",
   "metadata": {},
   "outputs": [],
   "source": [
    "def simple_policy(obs):\n",
    "    angle = obs[2]\n",
    "    return 0 if angle<0 else 1"
   ]
  },
  {
   "cell_type": "code",
   "execution_count": 17,
   "id": "12323e60",
   "metadata": {},
   "outputs": [],
   "source": [
    "totals = []\n",
    "for episode in range(500):\n",
    "    obs = env.reset()\n",
    "    episode_rewards = 0\n",
    "    for step in range(200):\n",
    "        action = simple_policy(obs)\n",
    "        obs, reward, done, info = env.step(action)\n",
    "        episode_rewards += reward\n",
    "        if done:\n",
    "            break\n",
    "    totals.append(episode_rewards)"
   ]
  },
  {
   "cell_type": "code",
   "execution_count": 18,
   "id": "d020630c",
   "metadata": {},
   "outputs": [
    {
     "data": {
      "image/png": "[encoded data removed]",
      "text/plain": [
       "<Figure size 432x288 with 1 Axes>"
      ]
     },
     "metadata": {
      "needs_background": "light"
     },
     "output_type": "display_data"
    }
   ],
   "source": [
    "totals_chart = pd.DataFrame(totals)\n",
    "ax = totals_chart.plot.line()"
   ]
  },
  {
   "cell_type": "code",
   "execution_count": 19,
   "id": "b6773e92",
   "metadata": {},
   "outputs": [
    {
     "data": {
      "text/html": [
       "<div>\n",
       "<style scoped>\n",
       "    .dataframe tbody tr th:only-of-type {\n",
       "        vertical-align: middle;\n",
       "    }\n",
       "\n",
       "    .dataframe tbody tr th {\n",
       "        vertical-align: top;\n",
       "    }\n",
       "\n",
       "    .dataframe thead th {\n",
       "        text-align: right;\n",
       "    }\n",
       "</style>\n",
       "<table border=\"1\" class=\"dataframe\">\n",
       "  <thead>\n",
       "    <tr style=\"text-align: right;\">\n",
       "      <th></th>\n",
       "      <th>0</th>\n",
       "    </tr>\n",
       "  </thead>\n",
       "  <tbody>\n",
       "    <tr>\n",
       "      <th>count</th>\n",
       "      <td>500.000000</td>\n",
       "    </tr>\n",
       "    <tr>\n",
       "      <th>mean</th>\n",
       "      <td>41.348000</td>\n",
       "    </tr>\n",
       "    <tr>\n",
       "      <th>std</th>\n",
       "      <td>8.763361</td>\n",
       "    </tr>\n",
       "    <tr>\n",
       "      <th>min</th>\n",
       "      <td>24.000000</td>\n",
       "    </tr>\n",
       "    <tr>\n",
       "      <th>25%</th>\n",
       "      <td>36.000000</td>\n",
       "    </tr>\n",
       "    <tr>\n",
       "      <th>50%</th>\n",
       "      <td>40.000000</td>\n",
       "    </tr>\n",
       "    <tr>\n",
       "      <th>75%</th>\n",
       "      <td>47.000000</td>\n",
       "    </tr>\n",
       "    <tr>\n",
       "      <th>max</th>\n",
       "      <td>71.000000</td>\n",
       "    </tr>\n",
       "  </tbody>\n",
       "</table>\n",
       "</div>"
      ],
      "text/plain": [
       "                0\n",
       "count  500.000000\n",
       "mean    41.348000\n",
       "std      8.763361\n",
       "min     24.000000\n",
       "25%     36.000000\n",
       "50%     40.000000\n",
       "75%     47.000000\n",
       "max     71.000000"
      ]
     },
     "execution_count": 19,
     "metadata": {},
     "output_type": "execute_result"
    }
   ],
   "source": [
    "totals_chart.describe()"
   ]
  },
  {
   "cell_type": "markdown",
   "id": "2b848693",
   "metadata": {},
   "source": [
    "# 2 Q-Learning"
   ]
  },
  {
   "cell_type": "code",
   "execution_count": 21,
   "id": "0244a125",
   "metadata": {},
   "outputs": [],
   "source": [
    "import math\n",
    "%matplotlib notebook\n",
    "from matplotlib import pyplot as plt"
   ]
  },
  {
   "cell_type": "code",
   "execution_count": 22,
   "id": "cdbbca21",
   "metadata": {},
   "outputs": [],
   "source": [
    "env = gym.make('CartPole-v0')"
   ]
  },
  {
   "cell_type": "markdown",
   "id": "b31dcb9a",
   "metadata": {},
   "source": [
    "## 2.1 Defining the Q-table"
   ]
  },
  {
   "cell_type": "code",
   "execution_count": 23,
   "id": "fc793562",
   "metadata": {},
   "outputs": [
    {
     "data": {
      "text/plain": [
       "(1, 1, 6, 12)"
      ]
     },
     "execution_count": 23,
     "metadata": {},
     "output_type": "execute_result"
    }
   ],
   "source": [
    "buckets = (1,1,6,12,)\n",
    "buckets"
   ]
  },
  {
   "cell_type": "code",
   "execution_count": 24,
   "id": "2a66aa77",
   "metadata": {},
   "outputs": [],
   "source": [
    "Q = np.zeros(buckets + (env.action_space.n,))"
   ]
  },
  {
   "cell_type": "code",
   "execution_count": 25,
   "id": "c9659bd9",
   "metadata": {},
   "outputs": [
    {
     "data": {
      "text/plain": [
       "array([0., 0., 0., 0., 0.])"
      ]
     },
     "execution_count": 25,
     "metadata": {},
     "output_type": "execute_result"
    }
   ],
   "source": [
    "np.zeros(5)"
   ]
  },
  {
   "cell_type": "code",
   "execution_count": 26,
   "id": "8f05191f",
   "metadata": {},
   "outputs": [
    {
     "data": {
      "text/plain": [
       "array([[0., 0., 0.],\n",
       "       [0., 0., 0.]])"
      ]
     },
     "execution_count": 26,
     "metadata": {},
     "output_type": "execute_result"
    }
   ],
   "source": [
    "array_shape = (2,3)\n",
    "np.zeros(array_shape)"
   ]
  },
  {
   "cell_type": "code",
   "execution_count": 28,
   "id": "0be8251d",
   "metadata": {},
   "outputs": [
    {
     "data": {
      "text/plain": [
       "array([[[0., 0., 0., 0.],\n",
       "        [0., 0., 0., 0.],\n",
       "        [0., 0., 0., 0.]],\n",
       "\n",
       "       [[0., 0., 0., 0.],\n",
       "        [0., 0., 0., 0.],\n",
       "        [0., 0., 0., 0.]]])"
      ]
     },
     "execution_count": 28,
     "metadata": {},
     "output_type": "execute_result"
    }
   ],
   "source": [
    "array_shape = (2,3,4)\n",
    "np.zeros(array_shape)"
   ]
  },
  {
   "cell_type": "code",
   "execution_count": 29,
   "id": "959a4301",
   "metadata": {},
   "outputs": [
    {
     "data": {
      "text/plain": [
       "(1, 1, 6, 12, 2)"
      ]
     },
     "execution_count": 29,
     "metadata": {},
     "output_type": "execute_result"
    }
   ],
   "source": [
    "buckets + (env.action_space.n,)"
   ]
  },
  {
   "cell_type": "code",
   "execution_count": 30,
   "id": "b2de7a59",
   "metadata": {},
   "outputs": [
    {
     "data": {
      "text/plain": [
       "array([[[[[0., 0.],\n",
       "          [0., 0.],\n",
       "          [0., 0.],\n",
       "          [0., 0.],\n",
       "          [0., 0.],\n",
       "          [0., 0.],\n",
       "          [0., 0.],\n",
       "          [0., 0.],\n",
       "          [0., 0.],\n",
       "          [0., 0.],\n",
       "          [0., 0.],\n",
       "          [0., 0.]],\n",
       "\n",
       "         [[0., 0.],\n",
       "          [0., 0.],\n",
       "          [0., 0.],\n",
       "          [0., 0.],\n",
       "          [0., 0.],\n",
       "          [0., 0.],\n",
       "          [0., 0.],\n",
       "          [0., 0.],\n",
       "          [0., 0.],\n",
       "          [0., 0.],\n",
       "          [0., 0.],\n",
       "          [0., 0.]],\n",
       "\n",
       "         [[0., 0.],\n",
       "          [0., 0.],\n",
       "          [0., 0.],\n",
       "          [0., 0.],\n",
       "          [0., 0.],\n",
       "          [0., 0.],\n",
       "          [0., 0.],\n",
       "          [0., 0.],\n",
       "          [0., 0.],\n",
       "          [0., 0.],\n",
       "          [0., 0.],\n",
       "          [0., 0.]],\n",
       "\n",
       "         [[0., 0.],\n",
       "          [0., 0.],\n",
       "          [0., 0.],\n",
       "          [0., 0.],\n",
       "          [0., 0.],\n",
       "          [0., 0.],\n",
       "          [0., 0.],\n",
       "          [0., 0.],\n",
       "          [0., 0.],\n",
       "          [0., 0.],\n",
       "          [0., 0.],\n",
       "          [0., 0.]],\n",
       "\n",
       "         [[0., 0.],\n",
       "          [0., 0.],\n",
       "          [0., 0.],\n",
       "          [0., 0.],\n",
       "          [0., 0.],\n",
       "          [0., 0.],\n",
       "          [0., 0.],\n",
       "          [0., 0.],\n",
       "          [0., 0.],\n",
       "          [0., 0.],\n",
       "          [0., 0.],\n",
       "          [0., 0.]],\n",
       "\n",
       "         [[0., 0.],\n",
       "          [0., 0.],\n",
       "          [0., 0.],\n",
       "          [0., 0.],\n",
       "          [0., 0.],\n",
       "          [0., 0.],\n",
       "          [0., 0.],\n",
       "          [0., 0.],\n",
       "          [0., 0.],\n",
       "          [0., 0.],\n",
       "          [0., 0.],\n",
       "          [0., 0.]]]]])"
      ]
     },
     "execution_count": 30,
     "metadata": {},
     "output_type": "execute_result"
    }
   ],
   "source": [
    "# initialising Q-table\n",
    "Q = np.zeros(buckets + (env.action_space.n,))\n",
    "Q"
   ]
  },
  {
   "cell_type": "markdown",
   "id": "68370769",
   "metadata": {},
   "source": [
    "## 2.2 Defining other controlling variables"
   ]
  },
  {
   "cell_type": "code",
   "execution_count": 31,
   "id": "f663565b",
   "metadata": {},
   "outputs": [],
   "source": [
    "n_episodes = 200\n",
    "min_alpha = 0.1\n",
    "min_epsilon = 0.1\n",
    "gamma = 1.0\n",
    "ada_divisor = 25\n",
    "max_env_steps = None\n",
    "monitor = False"
   ]
  },
  {
   "cell_type": "markdown",
   "id": "3ba5e892",
   "metadata": {},
   "source": [
    "## 2.3 Translating the state from Continuous to Discrete values"
   ]
  },
  {
   "cell_type": "code",
   "execution_count": 36,
   "id": "6ee715da",
   "metadata": {},
   "outputs": [],
   "source": [
    "def discretize(obs):\n",
    "    upper_bounds = [env.observation_space.high[0], 0.5, env.observation_space.high[2], math.radians[50]]\n",
    "    lower_bounds = [env.observation_space.low[0], -0.5, env.observation_space.low[2], -math.radians[50]]\n",
    "    ratios = [(obs[i]+abs(lower_bounds[i]))/(upper_bounds[i]-lower_bounds[i]) for i in range(len(obs))]\n",
    "    new_obs = [int(round((buckets[i]-1)*ratios[i])) for i in range(len(obs))]\n",
    "    new_obs = [min(buckets[i]-1, max(0, new_obs[i])) for i in range(len(obs))]\n",
    "    return tuple(new_obs)"
   ]
  },
  {
   "cell_type": "code",
   "execution_count": 37,
   "id": "9701a355",
   "metadata": {},
   "outputs": [
    {
     "name": "stdout",
     "output_type": "stream",
     "text": [
      "Position       = -0.19486855 0 = centre, >0 = means to the right\n",
      "Speed          = -0.20432314\n",
      "Angle          = 0.21072032\n",
      "Rotation speed = 0.17696178\n"
     ]
    }
   ],
   "source": [
    "showObs(obs)"
   ]
  },
  {
   "cell_type": "code",
   "execution_count": 38,
   "id": "59b0566e",
   "metadata": {},
   "outputs": [
    {
     "ename": "TypeError",
     "evalue": "'builtin_function_or_method' object is not subscriptable",
     "output_type": "error",
     "traceback": [
      "\u001b[1;31m---------------------------------------------------------------------------\u001b[0m",
      "\u001b[1;31mTypeError\u001b[0m                                 Traceback (most recent call last)",
      "\u001b[1;32m~\\AppData\\Local\\Temp/ipykernel_3256/380527819.py\u001b[0m in \u001b[0;36m<module>\u001b[1;34m\u001b[0m\n\u001b[1;32m----> 1\u001b[1;33m \u001b[0mdiscrete_obs\u001b[0m \u001b[1;33m=\u001b[0m \u001b[0mdiscretize\u001b[0m\u001b[1;33m(\u001b[0m\u001b[0mobs\u001b[0m\u001b[1;33m)\u001b[0m\u001b[1;33m\u001b[0m\u001b[1;33m\u001b[0m\u001b[0m\n\u001b[0m\u001b[0;32m      2\u001b[0m \u001b[0mshowObs\u001b[0m\u001b[1;33m(\u001b[0m\u001b[0mdiscrete_obs\u001b[0m\u001b[1;33m)\u001b[0m\u001b[1;33m\u001b[0m\u001b[1;33m\u001b[0m\u001b[0m\n",
      "\u001b[1;32m~\\AppData\\Local\\Temp/ipykernel_3256/44092090.py\u001b[0m in \u001b[0;36mdiscretize\u001b[1;34m(obs)\u001b[0m\n\u001b[0;32m      1\u001b[0m \u001b[1;32mdef\u001b[0m \u001b[0mdiscretize\u001b[0m\u001b[1;33m(\u001b[0m\u001b[0mobs\u001b[0m\u001b[1;33m)\u001b[0m\u001b[1;33m:\u001b[0m\u001b[1;33m\u001b[0m\u001b[1;33m\u001b[0m\u001b[0m\n\u001b[1;32m----> 2\u001b[1;33m     \u001b[0mupper_bounds\u001b[0m \u001b[1;33m=\u001b[0m \u001b[1;33m[\u001b[0m\u001b[0menv\u001b[0m\u001b[1;33m.\u001b[0m\u001b[0mobservation_space\u001b[0m\u001b[1;33m.\u001b[0m\u001b[0mhigh\u001b[0m\u001b[1;33m[\u001b[0m\u001b[1;36m0\u001b[0m\u001b[1;33m]\u001b[0m\u001b[1;33m,\u001b[0m \u001b[1;36m0.5\u001b[0m\u001b[1;33m,\u001b[0m \u001b[0menv\u001b[0m\u001b[1;33m.\u001b[0m\u001b[0mobservation_space\u001b[0m\u001b[1;33m.\u001b[0m\u001b[0mhigh\u001b[0m\u001b[1;33m[\u001b[0m\u001b[1;36m2\u001b[0m\u001b[1;33m]\u001b[0m\u001b[1;33m,\u001b[0m \u001b[0mmath\u001b[0m\u001b[1;33m.\u001b[0m\u001b[0mradians\u001b[0m\u001b[1;33m[\u001b[0m\u001b[1;36m50\u001b[0m\u001b[1;33m]\u001b[0m\u001b[1;33m]\u001b[0m\u001b[1;33m\u001b[0m\u001b[1;33m\u001b[0m\u001b[0m\n\u001b[0m\u001b[0;32m      3\u001b[0m     \u001b[0mlower_bounds\u001b[0m \u001b[1;33m=\u001b[0m \u001b[1;33m[\u001b[0m\u001b[0menv\u001b[0m\u001b[1;33m.\u001b[0m\u001b[0mobservation_space\u001b[0m\u001b[1;33m.\u001b[0m\u001b[0mlow\u001b[0m\u001b[1;33m[\u001b[0m\u001b[1;36m0\u001b[0m\u001b[1;33m]\u001b[0m\u001b[1;33m,\u001b[0m \u001b[1;33m-\u001b[0m\u001b[1;36m0.5\u001b[0m\u001b[1;33m,\u001b[0m \u001b[0menv\u001b[0m\u001b[1;33m.\u001b[0m\u001b[0mobservation_space\u001b[0m\u001b[1;33m.\u001b[0m\u001b[0mlow\u001b[0m\u001b[1;33m[\u001b[0m\u001b[1;36m2\u001b[0m\u001b[1;33m]\u001b[0m\u001b[1;33m,\u001b[0m \u001b[1;33m-\u001b[0m\u001b[0mmath\u001b[0m\u001b[1;33m.\u001b[0m\u001b[0mradians\u001b[0m\u001b[1;33m[\u001b[0m\u001b[1;36m50\u001b[0m\u001b[1;33m]\u001b[0m\u001b[1;33m]\u001b[0m\u001b[1;33m\u001b[0m\u001b[1;33m\u001b[0m\u001b[0m\n\u001b[0;32m      4\u001b[0m     \u001b[0mratios\u001b[0m \u001b[1;33m=\u001b[0m \u001b[1;33m[\u001b[0m\u001b[1;33m(\u001b[0m\u001b[0mobs\u001b[0m\u001b[1;33m[\u001b[0m\u001b[0mi\u001b[0m\u001b[1;33m]\u001b[0m\u001b[1;33m+\u001b[0m\u001b[0mabs\u001b[0m\u001b[1;33m(\u001b[0m\u001b[0mlower_bounds\u001b[0m\u001b[1;33m[\u001b[0m\u001b[0mi\u001b[0m\u001b[1;33m]\u001b[0m\u001b[1;33m)\u001b[0m\u001b[1;33m)\u001b[0m\u001b[1;33m/\u001b[0m\u001b[1;33m(\u001b[0m\u001b[0mupper_bounds\u001b[0m\u001b[1;33m[\u001b[0m\u001b[0mi\u001b[0m\u001b[1;33m]\u001b[0m\u001b[1;33m-\u001b[0m\u001b[0mlower_bounds\u001b[0m\u001b[1;33m[\u001b[0m\u001b[0mi\u001b[0m\u001b[1;33m]\u001b[0m\u001b[1;33m)\u001b[0m \u001b[1;32mfor\u001b[0m \u001b[0mi\u001b[0m \u001b[1;32min\u001b[0m \u001b[0mrange\u001b[0m\u001b[1;33m(\u001b[0m\u001b[0mlen\u001b[0m\u001b[1;33m(\u001b[0m\u001b[0mobs\u001b[0m\u001b[1;33m)\u001b[0m\u001b[1;33m)\u001b[0m\u001b[1;33m]\u001b[0m\u001b[1;33m\u001b[0m\u001b[1;33m\u001b[0m\u001b[0m\n\u001b[0;32m      5\u001b[0m     \u001b[0mnew_obs\u001b[0m \u001b[1;33m=\u001b[0m \u001b[1;33m[\u001b[0m\u001b[0mint\u001b[0m\u001b[1;33m(\u001b[0m\u001b[0mround\u001b[0m\u001b[1;33m(\u001b[0m\u001b[1;33m(\u001b[0m\u001b[0mbuckets\u001b[0m\u001b[1;33m[\u001b[0m\u001b[0mi\u001b[0m\u001b[1;33m]\u001b[0m\u001b[1;33m-\u001b[0m\u001b[1;36m1\u001b[0m\u001b[1;33m)\u001b[0m\u001b[1;33m*\u001b[0m\u001b[0mratios\u001b[0m\u001b[1;33m[\u001b[0m\u001b[0mi\u001b[0m\u001b[1;33m]\u001b[0m\u001b[1;33m)\u001b[0m\u001b[1;33m)\u001b[0m \u001b[1;32mfor\u001b[0m \u001b[0mi\u001b[0m \u001b[1;32min\u001b[0m \u001b[0mrange\u001b[0m\u001b[1;33m(\u001b[0m\u001b[0mlen\u001b[0m\u001b[1;33m(\u001b[0m\u001b[0mobs\u001b[0m\u001b[1;33m)\u001b[0m\u001b[1;33m)\u001b[0m\u001b[1;33m]\u001b[0m\u001b[1;33m\u001b[0m\u001b[1;33m\u001b[0m\u001b[0m\n",
      "\u001b[1;31mTypeError\u001b[0m: 'builtin_function_or_method' object is not subscriptable"
     ]
    }
   ],
   "source": [
    "discrete_obs = discretize(obs)\n",
    "showObs(discrete_obs)"
   ]
  },
  {
   "cell_type": "markdown",
   "id": "2a3340fe",
   "metadata": {},
   "source": [
    "## 2.4 Selecting an Action based on the Q-Table"
   ]
  },
  {
   "cell_type": "code",
   "execution_count": 39,
   "id": "f143af5a",
   "metadata": {},
   "outputs": [
    {
     "data": {
      "text/plain": [
       "3"
      ]
     },
     "execution_count": 39,
     "metadata": {},
     "output_type": "execute_result"
    }
   ],
   "source": [
    "np.argmax([1,2,1,6,2,4])"
   ]
  },
  {
   "cell_type": "code",
   "execution_count": 40,
   "id": "3295eae0",
   "metadata": {},
   "outputs": [],
   "source": [
    "# Choosing action based on epsilon-greedy policy\n",
    "def choose_action(state, epsilon):\n",
    "    return env.action_space.sample() if (np.random.random() <= epsilon) else np.argmax(Q[state])"
   ]
  },
  {
   "cell_type": "markdown",
   "id": "d0fa30f7",
   "metadata": {},
   "source": [
    "## 2.5 Learning! .. Updating the Q-Table based on the reward"
   ]
  },
  {
   "cell_type": "code",
   "execution_count": 41,
   "id": "65aab793",
   "metadata": {},
   "outputs": [],
   "source": [
    "# Updating Q-value of state-action pair based on the update equation\n",
    "def update_q(state_old, action, reward, state_new, alpha):\n",
    "    Q[state_old][action] += alpha*(reward+gamma*np.max(Q[state_new])-Q[state_old][action])"
   ]
  },
  {
   "cell_type": "markdown",
   "id": "dc51fcf6",
   "metadata": {},
   "source": [
    "## 2.6 Adaptive rates for Learning and Exploration"
   ]
  },
  {
   "cell_type": "code",
   "execution_count": 42,
   "id": "7375e09d",
   "metadata": {},
   "outputs": [],
   "source": [
    "# Adaptive learning of Exploration Rate\n",
    "def get_epsilon(t):\n",
    "    return max(min_epsilon, min(1, 1.0-math.log10((t+1)/ada_divisor)))"
   ]
  },
  {
   "cell_type": "code",
   "execution_count": 43,
   "id": "05712264",
   "metadata": {},
   "outputs": [],
   "source": [
    "# Adaptive learning of Learning Rate\n",
    "def get_alpha(t):\n",
    "    return max(min_alpha, min(1.0, 1.0-math.log10((t+1)/ada_divisor)))"
   ]
  },
  {
   "cell_type": "markdown",
   "id": "b3ea60f3",
   "metadata": {},
   "source": [
    "## 2.7 The main learning loop"
   ]
  },
  {
   "cell_type": "code",
   "execution_count": 44,
   "id": "a4aae5f0",
   "metadata": {},
   "outputs": [
    {
     "data": {
      "application/javascript": [
       "/* Put everything inside the global mpl namespace */\n",
       "/* global mpl */\n",
       "window.mpl = {};\n",
       "\n",
       "mpl.get_websocket_type = function () {\n",
       "    if (typeof WebSocket !== 'undefined') {\n",
       "        return WebSocket;\n",
       "    } else if (typeof MozWebSocket !== 'undefined') {\n",
       "        return MozWebSocket;\n",
       "    } else {\n",
       "        alert(\n",
       "            'Your browser does not have WebSocket support. ' +\n",
       "                'Please try Chrome, Safari or Firefox ≥ 6. ' +\n",
       "                'Firefox 4 and 5 are also supported but you ' +\n",
       "                'have to enable WebSockets in about:config.'\n",
       "        );\n",
       "    }\n",
       "};\n",
       "\n",
       "mpl.figure = function (figure_id, websocket, ondownload, parent_element) {\n",
       "    this.id = figure_id;\n",
       "\n",
       "    this.ws = websocket;\n",
       "\n",
       "    this.supports_binary = this.ws.binaryType !== undefined;\n",
       "\n",
       "    if (!this.supports_binary) {\n",
       "        var warnings = document.getElementById('mpl-warnings');\n",
       "        if (warnings) {\n",
       "            warnings.style.display = 'block';\n",
       "            warnings.textContent =\n",
       "                'This browser does not support binary websocket messages. ' +\n",
       "                'Performance may be slow.';\n",
       "        }\n",
       "    }\n",
       "\n",
       "    this.imageObj = new Image();\n",
       "\n",
       "    this.context = undefined;\n",
       "    this.message = undefined;\n",
       "    this.canvas = undefined;\n",
       "    this.rubberband_canvas = undefined;\n",
       "    this.rubberband_context = undefined;\n",
       "    this.format_dropdown = undefined;\n",
       "\n",
       "    this.image_mode = 'full';\n",
       "\n",
       "    this.root = document.createElement('div');\n",
       "    this.root.setAttribute('style', 'display: inline-block');\n",
       "    this._root_extra_style(this.root);\n",
       "\n",
       "    parent_element.appendChild(this.root);\n",
       "\n",
       "    this._init_header(this);\n",
       "    this._init_canvas(this);\n",
       "    this._init_toolbar(this);\n",
       "\n",
       "    var fig = this;\n",
       "\n",
       "    this.waiting = false;\n",
       "\n",
       "    this.ws.onopen = function () {\n",
       "        fig.send_message('supports_binary', { value: fig.supports_binary });\n",
       "        fig.send_message('send_image_mode', {});\n",
       "        if (fig.ratio !== 1) {\n",
       "            fig.send_message('set_device_pixel_ratio', {\n",
       "                device_pixel_ratio: fig.ratio,\n",
       "            });\n",
       "        }\n",
       "        fig.send_message('refresh', {});\n",
       "    };\n",
       "\n",
       "    this.imageObj.onload = function () {\n",
       "        if (fig.image_mode === 'full') {\n",
       "            // Full images could contain transparency (where diff images\n",
       "            // almost always do), so we need to clear the canvas so that\n",
       "            // there is no ghosting.\n",
       "            fig.context.clearRect(0, 0, fig.canvas.width, fig.canvas.height);\n",
       "        }\n",
       "        fig.context.drawImage(fig.imageObj, 0, 0);\n",
       "    };\n",
       "\n",
       "    this.imageObj.onunload = function () {\n",
       "        fig.ws.close();\n",
       "    };\n",
       "\n",
       "    this.ws.onmessage = this._make_on_message_function(this);\n",
       "\n",
       "    this.ondownload = ondownload;\n",
       "};\n",
       "\n",
       "mpl.figure.prototype._init_header = function () {\n",
       "    var titlebar = document.createElement('div');\n",
       "    titlebar.classList =\n",
       "        'ui-dialog-titlebar ui-widget-header ui-corner-all ui-helper-clearfix';\n",
       "    var titletext = document.createElement('div');\n",
       "    titletext.classList = 'ui-dialog-title';\n",
       "    titletext.setAttribute(\n",
       "        'style',\n",
       "        'width: 100%; text-align: center; padding: 3px;'\n",
       "    );\n",
       "    titlebar.appendChild(titletext);\n",
       "    this.root.appendChild(titlebar);\n",
       "    this.header = titletext;\n",
       "};\n",
       "\n",
       "mpl.figure.prototype._canvas_extra_style = function (_canvas_div) {};\n",
       "\n",
       "mpl.figure.prototype._root_extra_style = function (_canvas_div) {};\n",
       "\n",
       "mpl.figure.prototype._init_canvas = function () {\n",
       "    var fig = this;\n",
       "\n",
       "    var canvas_div = (this.canvas_div = document.createElement('div'));\n",
       "    canvas_div.setAttribute(\n",
       "        'style',\n",
       "        'border: 1px solid #ddd;' +\n",
       "            'box-sizing: content-box;' +\n",
       "            'clear: both;' +\n",
       "            'min-height: 1px;' +\n",
       "            'min-width: 1px;' +\n",
       "            'outline: 0;' +\n",
       "            'overflow: hidden;' +\n",
       "            'position: relative;' +\n",
       "            'resize: both;'\n",
       "    );\n",
       "\n",
       "    function on_keyboard_event_closure(name) {\n",
       "        return function (event) {\n",
       "            return fig.key_event(event, name);\n",
       "        };\n",
       "    }\n",
       "\n",
       "    canvas_div.addEventListener(\n",
       "        'keydown',\n",
       "        on_keyboard_event_closure('key_press')\n",
       "    );\n",
       "    canvas_div.addEventListener(\n",
       "        'keyup',\n",
       "        on_keyboard_event_closure('key_release')\n",
       "    );\n",
       "\n",
       "    this._canvas_extra_style(canvas_div);\n",
       "    this.root.appendChild(canvas_div);\n",
       "\n",
       "    var canvas = (this.canvas = document.createElement('canvas'));\n",
       "    canvas.classList.add('mpl-canvas');\n",
       "    canvas.setAttribute('style', 'box-sizing: content-box;');\n",
       "\n",
       "    this.context = canvas.getContext('2d');\n",
       "\n",
       "    var backingStore =\n",
       "        this.context.backingStorePixelRatio ||\n",
       "        this.context.webkitBackingStorePixelRatio ||\n",
       "        this.context.mozBackingStorePixelRatio ||\n",
       "        this.context.msBackingStorePixelRatio ||\n",
       "        this.context.oBackingStorePixelRatio ||\n",
       "        this.context.backingStorePixelRatio ||\n",
       "        1;\n",
       "\n",
       "    this.ratio = (window.devicePixelRatio || 1) / backingStore;\n",
       "\n",
       "    var rubberband_canvas = (this.rubberband_canvas = document.createElement(\n",
       "        'canvas'\n",
       "    ));\n",
       "    rubberband_canvas.setAttribute(\n",
       "        'style',\n",
       "        'box-sizing: content-box; position: absolute; left: 0; top: 0; z-index: 1;'\n",
       "    );\n",
       "\n",
       "    // Apply a ponyfill if ResizeObserver is not implemented by browser.\n",
       "    if (this.ResizeObserver === undefined) {\n",
       "        if (window.ResizeObserver !== undefined) {\n",
       "            this.ResizeObserver = window.ResizeObserver;\n",
       "        } else {\n",
       "            var obs = _JSXTOOLS_RESIZE_OBSERVER({});\n",
       "            this.ResizeObserver = obs.ResizeObserver;\n",
       "        }\n",
       "    }\n",
       "\n",
       "    this.resizeObserverInstance = new this.ResizeObserver(function (entries) {\n",
       "        var nentries = entries.length;\n",
       "        for (var i = 0; i < nentries; i++) {\n",
       "            var entry = entries[i];\n",
       "            var width, height;\n",
       "            if (entry.contentBoxSize) {\n",
       "                if (entry.contentBoxSize instanceof Array) {\n",
       "                    // Chrome 84 implements new version of spec.\n",
       "                    width = entry.contentBoxSize[0].inlineSize;\n",
       "                    height = entry.contentBoxSize[0].blockSize;\n",
       "                } else {\n",
       "                    // Firefox implements old version of spec.\n",
       "                    width = entry.contentBoxSize.inlineSize;\n",
       "                    height = entry.contentBoxSize.blockSize;\n",
       "                }\n",
       "            } else {\n",
       "                // Chrome <84 implements even older version of spec.\n",
       "                width = entry.contentRect.width;\n",
       "                height = entry.contentRect.height;\n",
       "            }\n",
       "\n",
       "            // Keep the size of the canvas and rubber band canvas in sync with\n",
       "            // the canvas container.\n",
       "            if (entry.devicePixelContentBoxSize) {\n",
       "                // Chrome 84 implements new version of spec.\n",
       "                canvas.setAttribute(\n",
       "                    'width',\n",
       "                    entry.devicePixelContentBoxSize[0].inlineSize\n",
       "                );\n",
       "                canvas.setAttribute(\n",
       "                    'height',\n",
       "                    entry.devicePixelContentBoxSize[0].blockSize\n",
       "                );\n",
       "            } else {\n",
       "                canvas.setAttribute('width', width * fig.ratio);\n",
       "                canvas.setAttribute('height', height * fig.ratio);\n",
       "            }\n",
       "            canvas.setAttribute(\n",
       "                'style',\n",
       "                'width: ' + width + 'px; height: ' + height + 'px;'\n",
       "            );\n",
       "\n",
       "            rubberband_canvas.setAttribute('width', width);\n",
       "            rubberband_canvas.setAttribute('height', height);\n",
       "\n",
       "            // And update the size in Python. We ignore the initial 0/0 size\n",
       "            // that occurs as the element is placed into the DOM, which should\n",
       "            // otherwise not happen due to the minimum size styling.\n",
       "            if (fig.ws.readyState == 1 && width != 0 && height != 0) {\n",
       "                fig.request_resize(width, height);\n",
       "            }\n",
       "        }\n",
       "    });\n",
       "    this.resizeObserverInstance.observe(canvas_div);\n",
       "\n",
       "    function on_mouse_event_closure(name) {\n",
       "        return function (event) {\n",
       "            return fig.mouse_event(event, name);\n",
       "        };\n",
       "    }\n",
       "\n",
       "    rubberband_canvas.addEventListener(\n",
       "        'mousedown',\n",
       "        on_mouse_event_closure('button_press')\n",
       "    );\n",
       "    rubberband_canvas.addEventListener(\n",
       "        'mouseup',\n",
       "        on_mouse_event_closure('button_release')\n",
       "    );\n",
       "    rubberband_canvas.addEventListener(\n",
       "        'dblclick',\n",
       "        on_mouse_event_closure('dblclick')\n",
       "    );\n",
       "    // Throttle sequential mouse events to 1 every 20ms.\n",
       "    rubberband_canvas.addEventListener(\n",
       "        'mousemove',\n",
       "        on_mouse_event_closure('motion_notify')\n",
       "    );\n",
       "\n",
       "    rubberband_canvas.addEventListener(\n",
       "        'mouseenter',\n",
       "        on_mouse_event_closure('figure_enter')\n",
       "    );\n",
       "    rubberband_canvas.addEventListener(\n",
       "        'mouseleave',\n",
       "        on_mouse_event_closure('figure_leave')\n",
       "    );\n",
       "\n",
       "    canvas_div.addEventListener('wheel', function (event) {\n",
       "        if (event.deltaY < 0) {\n",
       "            event.step = 1;\n",
       "        } else {\n",
       "            event.step = -1;\n",
       "        }\n",
       "        on_mouse_event_closure('scroll')(event);\n",
       "    });\n",
       "\n",
       "    canvas_div.appendChild(canvas);\n",
       "    canvas_div.appendChild(rubberband_canvas);\n",
       "\n",
       "    this.rubberband_context = rubberband_canvas.getContext('2d');\n",
       "    this.rubberband_context.strokeStyle = '#000000';\n",
       "\n",
       "    this._resize_canvas = function (width, height, forward) {\n",
       "        if (forward) {\n",
       "            canvas_div.style.width = width + 'px';\n",
       "            canvas_div.style.height = height + 'px';\n",
       "        }\n",
       "    };\n",
       "\n",
       "    // Disable right mouse context menu.\n",
       "    this.rubberband_canvas.addEventListener('contextmenu', function (_e) {\n",
       "        event.preventDefault();\n",
       "        return false;\n",
       "    });\n",
       "\n",
       "    function set_focus() {\n",
       "        canvas.focus();\n",
       "        canvas_div.focus();\n",
       "    }\n",
       "\n",
       "    window.setTimeout(set_focus, 100);\n",
       "};\n",
       "\n",
       "mpl.figure.prototype._init_toolbar = function () {\n",
       "    var fig = this;\n",
       "\n",
       "    var toolbar = document.createElement('div');\n",
       "    toolbar.classList = 'mpl-toolbar';\n",
       "    this.root.appendChild(toolbar);\n",
       "\n",
       "    function on_click_closure(name) {\n",
       "        return function (_event) {\n",
       "            return fig.toolbar_button_onclick(name);\n",
       "        };\n",
       "    }\n",
       "\n",
       "    function on_mouseover_closure(tooltip) {\n",
       "        return function (event) {\n",
       "            if (!event.currentTarget.disabled) {\n",
       "                return fig.toolbar_button_onmouseover(tooltip);\n",
       "            }\n",
       "        };\n",
       "    }\n",
       "\n",
       "    fig.buttons = {};\n",
       "    var buttonGroup = document.createElement('div');\n",
       "    buttonGroup.classList = 'mpl-button-group';\n",
       "    for (var toolbar_ind in mpl.toolbar_items) {\n",
       "        var name = mpl.toolbar_items[toolbar_ind][0];\n",
       "        var tooltip = mpl.toolbar_items[toolbar_ind][1];\n",
       "        var image = mpl.toolbar_items[toolbar_ind][2];\n",
       "        var method_name = mpl.toolbar_items[toolbar_ind][3];\n",
       "\n",
       "        if (!name) {\n",
       "            /* Instead of a spacer, we start a new button group. */\n",
       "            if (buttonGroup.hasChildNodes()) {\n",
       "                toolbar.appendChild(buttonGroup);\n",
       "            }\n",
       "            buttonGroup = document.createElement('div');\n",
       "            buttonGroup.classList = 'mpl-button-group';\n",
       "            continue;\n",
       "        }\n",
       "\n",
       "        var button = (fig.buttons[name] = document.createElement('button'));\n",
       "        button.classList = 'mpl-widget';\n",
       "        button.setAttribute('role', 'button');\n",
       "        button.setAttribute('aria-disabled', 'false');\n",
       "        button.addEventListener('click', on_click_closure(method_name));\n",
       "        button.addEventListener('mouseover', on_mouseover_closure(tooltip));\n",
       "\n",
       "        var icon_img = document.createElement('img');\n",
       "        icon_img.src = '_images/' + image + '.png';\n",
       "        icon_img.srcset = '_images/' + image + '_large.png 2x';\n",
       "        icon_img.alt = tooltip;\n",
       "        button.appendChild(icon_img);\n",
       "\n",
       "        buttonGroup.appendChild(button);\n",
       "    }\n",
       "\n",
       "    if (buttonGroup.hasChildNodes()) {\n",
       "        toolbar.appendChild(buttonGroup);\n",
       "    }\n",
       "\n",
       "    var fmt_picker = document.createElement('select');\n",
       "    fmt_picker.classList = 'mpl-widget';\n",
       "    toolbar.appendChild(fmt_picker);\n",
       "    this.format_dropdown = fmt_picker;\n",
       "\n",
       "    for (var ind in mpl.extensions) {\n",
       "        var fmt = mpl.extensions[ind];\n",
       "        var option = document.createElement('option');\n",
       "        option.selected = fmt === mpl.default_extension;\n",
       "        option.innerHTML = fmt;\n",
       "        fmt_picker.appendChild(option);\n",
       "    }\n",
       "\n",
       "    var status_bar = document.createElement('span');\n",
       "    status_bar.classList = 'mpl-message';\n",
       "    toolbar.appendChild(status_bar);\n",
       "    this.message = status_bar;\n",
       "};\n",
       "\n",
       "mpl.figure.prototype.request_resize = function (x_pixels, y_pixels) {\n",
       "    // Request matplotlib to resize the figure. Matplotlib will then trigger a resize in the client,\n",
       "    // which will in turn request a refresh of the image.\n",
       "    this.send_message('resize', { width: x_pixels, height: y_pixels });\n",
       "};\n",
       "\n",
       "mpl.figure.prototype.send_message = function (type, properties) {\n",
       "    properties['type'] = type;\n",
       "    properties['figure_id'] = this.id;\n",
       "    this.ws.send(JSON.stringify(properties));\n",
       "};\n",
       "\n",
       "mpl.figure.prototype.send_draw_message = function () {\n",
       "    if (!this.waiting) {\n",
       "        this.waiting = true;\n",
       "        this.ws.send(JSON.stringify({ type: 'draw', figure_id: this.id }));\n",
       "    }\n",
       "};\n",
       "\n",
       "mpl.figure.prototype.handle_save = function (fig, _msg) {\n",
       "    var format_dropdown = fig.format_dropdown;\n",
       "    var format = format_dropdown.options[format_dropdown.selectedIndex].value;\n",
       "    fig.ondownload(fig, format);\n",
       "};\n",
       "\n",
       "mpl.figure.prototype.handle_resize = function (fig, msg) {\n",
       "    var size = msg['size'];\n",
       "    if (size[0] !== fig.canvas.width || size[1] !== fig.canvas.height) {\n",
       "        fig._resize_canvas(size[0], size[1], msg['forward']);\n",
       "        fig.send_message('refresh', {});\n",
       "    }\n",
       "};\n",
       "\n",
       "mpl.figure.prototype.handle_rubberband = function (fig, msg) {\n",
       "    var x0 = msg['x0'] / fig.ratio;\n",
       "    var y0 = (fig.canvas.height - msg['y0']) / fig.ratio;\n",
       "    var x1 = msg['x1'] / fig.ratio;\n",
       "    var y1 = (fig.canvas.height - msg['y1']) / fig.ratio;\n",
       "    x0 = Math.floor(x0) + 0.5;\n",
       "    y0 = Math.floor(y0) + 0.5;\n",
       "    x1 = Math.floor(x1) + 0.5;\n",
       "    y1 = Math.floor(y1) + 0.5;\n",
       "    var min_x = Math.min(x0, x1);\n",
       "    var min_y = Math.min(y0, y1);\n",
       "    var width = Math.abs(x1 - x0);\n",
       "    var height = Math.abs(y1 - y0);\n",
       "\n",
       "    fig.rubberband_context.clearRect(\n",
       "        0,\n",
       "        0,\n",
       "        fig.canvas.width / fig.ratio,\n",
       "        fig.canvas.height / fig.ratio\n",
       "    );\n",
       "\n",
       "    fig.rubberband_context.strokeRect(min_x, min_y, width, height);\n",
       "};\n",
       "\n",
       "mpl.figure.prototype.handle_figure_label = function (fig, msg) {\n",
       "    // Updates the figure title.\n",
       "    fig.header.textContent = msg['label'];\n",
       "};\n",
       "\n",
       "mpl.figure.prototype.handle_cursor = function (fig, msg) {\n",
       "    fig.rubberband_canvas.style.cursor = msg['cursor'];\n",
       "};\n",
       "\n",
       "mpl.figure.prototype.handle_message = function (fig, msg) {\n",
       "    fig.message.textContent = msg['message'];\n",
       "};\n",
       "\n",
       "mpl.figure.prototype.handle_draw = function (fig, _msg) {\n",
       "    // Request the server to send over a new figure.\n",
       "    fig.send_draw_message();\n",
       "};\n",
       "\n",
       "mpl.figure.prototype.handle_image_mode = function (fig, msg) {\n",
       "    fig.image_mode = msg['mode'];\n",
       "};\n",
       "\n",
       "mpl.figure.prototype.handle_history_buttons = function (fig, msg) {\n",
       "    for (var key in msg) {\n",
       "        if (!(key in fig.buttons)) {\n",
       "            continue;\n",
       "        }\n",
       "        fig.buttons[key].disabled = !msg[key];\n",
       "        fig.buttons[key].setAttribute('aria-disabled', !msg[key]);\n",
       "    }\n",
       "};\n",
       "\n",
       "mpl.figure.prototype.handle_navigate_mode = function (fig, msg) {\n",
       "    if (msg['mode'] === 'PAN') {\n",
       "        fig.buttons['Pan'].classList.add('active');\n",
       "        fig.buttons['Zoom'].classList.remove('active');\n",
       "    } else if (msg['mode'] === 'ZOOM') {\n",
       "        fig.buttons['Pan'].classList.remove('active');\n",
       "        fig.buttons['Zoom'].classList.add('active');\n",
       "    } else {\n",
       "        fig.buttons['Pan'].classList.remove('active');\n",
       "        fig.buttons['Zoom'].classList.remove('active');\n",
       "    }\n",
       "};\n",
       "\n",
       "mpl.figure.prototype.updated_canvas_event = function () {\n",
       "    // Called whenever the canvas gets updated.\n",
       "    this.send_message('ack', {});\n",
       "};\n",
       "\n",
       "// A function to construct a web socket function for onmessage handling.\n",
       "// Called in the figure constructor.\n",
       "mpl.figure.prototype._make_on_message_function = function (fig) {\n",
       "    return function socket_on_message(evt) {\n",
       "        if (evt.data instanceof Blob) {\n",
       "            var img = evt.data;\n",
       "            if (img.type !== 'image/png') {\n",
       "                /* FIXME: We get \"Resource interpreted as Image but\n",
       "                 * transferred with MIME type text/plain:\" errors on\n",
       "                 * Chrome.  But how to set the MIME type?  It doesn't seem\n",
       "                 * to be part of the websocket stream */\n",
       "                img.type = 'image/png';\n",
       "            }\n",
       "\n",
       "            /* Free the memory for the previous frames */\n",
       "            if (fig.imageObj.src) {\n",
       "                (window.URL || window.webkitURL).revokeObjectURL(\n",
       "                    fig.imageObj.src\n",
       "                );\n",
       "            }\n",
       "\n",
       "            fig.imageObj.src = (window.URL || window.webkitURL).createObjectURL(\n",
       "                img\n",
       "            );\n",
       "            fig.updated_canvas_event();\n",
       "            fig.waiting = false;\n",
       "            return;\n",
       "        } else if (\n",
       "            typeof evt.data === 'string' &&\n",
       "            evt.data.slice(0, 21) === 'data:image/png;base64'\n",
       "        ) {\n",
       "            fig.imageObj.src = evt.data;\n",
       "            fig.updated_canvas_event();\n",
       "            fig.waiting = false;\n",
       "            return;\n",
       "        }\n",
       "\n",
       "        var msg = JSON.parse(evt.data);\n",
       "        var msg_type = msg['type'];\n",
       "\n",
       "        // Call the  \"handle_{type}\" callback, which takes\n",
       "        // the figure and JSON message as its only arguments.\n",
       "        try {\n",
       "            var callback = fig['handle_' + msg_type];\n",
       "        } catch (e) {\n",
       "            console.log(\n",
       "                \"No handler for the '\" + msg_type + \"' message type: \",\n",
       "                msg\n",
       "            );\n",
       "            return;\n",
       "        }\n",
       "\n",
       "        if (callback) {\n",
       "            try {\n",
       "                // console.log(\"Handling '\" + msg_type + \"' message: \", msg);\n",
       "                callback(fig, msg);\n",
       "            } catch (e) {\n",
       "                console.log(\n",
       "                    \"Exception inside the 'handler_\" + msg_type + \"' callback:\",\n",
       "                    e,\n",
       "                    e.stack,\n",
       "                    msg\n",
       "                );\n",
       "            }\n",
       "        }\n",
       "    };\n",
       "};\n",
       "\n",
       "// from https://stackoverflow.com/questions/1114465/getting-mouse-location-in-canvas\n",
       "mpl.findpos = function (e) {\n",
       "    //this section is from http://www.quirksmode.org/js/events_properties.html\n",
       "    var targ;\n",
       "    if (!e) {\n",
       "        e = window.event;\n",
       "    }\n",
       "    if (e.target) {\n",
       "        targ = e.target;\n",
       "    } else if (e.srcElement) {\n",
       "        targ = e.srcElement;\n",
       "    }\n",
       "    if (targ.nodeType === 3) {\n",
       "        // defeat Safari bug\n",
       "        targ = targ.parentNode;\n",
       "    }\n",
       "\n",
       "    // pageX,Y are the mouse positions relative to the document\n",
       "    var boundingRect = targ.getBoundingClientRect();\n",
       "    var x = e.pageX - (boundingRect.left + document.body.scrollLeft);\n",
       "    var y = e.pageY - (boundingRect.top + document.body.scrollTop);\n",
       "\n",
       "    return { x: x, y: y };\n",
       "};\n",
       "\n",
       "/*\n",
       " * return a copy of an object with only non-object keys\n",
       " * we need this to avoid circular references\n",
       " * https://stackoverflow.com/a/24161582/3208463\n",
       " */\n",
       "function simpleKeys(original) {\n",
       "    return Object.keys(original).reduce(function (obj, key) {\n",
       "        if (typeof original[key] !== 'object') {\n",
       "            obj[key] = original[key];\n",
       "        }\n",
       "        return obj;\n",
       "    }, {});\n",
       "}\n",
       "\n",
       "mpl.figure.prototype.mouse_event = function (event, name) {\n",
       "    var canvas_pos = mpl.findpos(event);\n",
       "\n",
       "    if (name === 'button_press') {\n",
       "        this.canvas.focus();\n",
       "        this.canvas_div.focus();\n",
       "    }\n",
       "\n",
       "    var x = canvas_pos.x * this.ratio;\n",
       "    var y = canvas_pos.y * this.ratio;\n",
       "\n",
       "    this.send_message(name, {\n",
       "        x: x,\n",
       "        y: y,\n",
       "        button: event.button,\n",
       "        step: event.step,\n",
       "        guiEvent: simpleKeys(event),\n",
       "    });\n",
       "\n",
       "    /* This prevents the web browser from automatically changing to\n",
       "     * the text insertion cursor when the button is pressed.  We want\n",
       "     * to control all of the cursor setting manually through the\n",
       "     * 'cursor' event from matplotlib */\n",
       "    event.preventDefault();\n",
       "    return false;\n",
       "};\n",
       "\n",
       "mpl.figure.prototype._key_event_extra = function (_event, _name) {\n",
       "    // Handle any extra behaviour associated with a key event\n",
       "};\n",
       "\n",
       "mpl.figure.prototype.key_event = function (event, name) {\n",
       "    // Prevent repeat events\n",
       "    if (name === 'key_press') {\n",
       "        if (event.key === this._key) {\n",
       "            return;\n",
       "        } else {\n",
       "            this._key = event.key;\n",
       "        }\n",
       "    }\n",
       "    if (name === 'key_release') {\n",
       "        this._key = null;\n",
       "    }\n",
       "\n",
       "    var value = '';\n",
       "    if (event.ctrlKey && event.key !== 'Control') {\n",
       "        value += 'ctrl+';\n",
       "    }\n",
       "    else if (event.altKey && event.key !== 'Alt') {\n",
       "        value += 'alt+';\n",
       "    }\n",
       "    else if (event.shiftKey && event.key !== 'Shift') {\n",
       "        value += 'shift+';\n",
       "    }\n",
       "\n",
       "    value += 'k' + event.key;\n",
       "\n",
       "    this._key_event_extra(event, name);\n",
       "\n",
       "    this.send_message(name, { key: value, guiEvent: simpleKeys(event) });\n",
       "    return false;\n",
       "};\n",
       "\n",
       "mpl.figure.prototype.toolbar_button_onclick = function (name) {\n",
       "    if (name === 'download') {\n",
       "        this.handle_save(this, null);\n",
       "    } else {\n",
       "        this.send_message('toolbar_button', { name: name });\n",
       "    }\n",
       "};\n",
       "\n",
       "mpl.figure.prototype.toolbar_button_onmouseover = function (tooltip) {\n",
       "    this.message.textContent = tooltip;\n",
       "};\n",
       "\n",
       "///////////////// REMAINING CONTENT GENERATED BY embed_js.py /////////////////\n",
       "// prettier-ignore\n",
       "var _JSXTOOLS_RESIZE_OBSERVER=function(A){var t,i=new WeakMap,n=new WeakMap,a=new WeakMap,r=new WeakMap,o=new Set;function s(e){if(!(this instanceof s))throw new TypeError(\"Constructor requires 'new' operator\");i.set(this,e)}function h(){throw new TypeError(\"Function is not a constructor\")}function c(e,t,i,n){e=0 in arguments?Number(arguments[0]):0,t=1 in arguments?Number(arguments[1]):0,i=2 in arguments?Number(arguments[2]):0,n=3 in arguments?Number(arguments[3]):0,this.right=(this.x=this.left=e)+(this.width=i),this.bottom=(this.y=this.top=t)+(this.height=n),Object.freeze(this)}function d(){t=requestAnimationFrame(d);var s=new WeakMap,p=new Set;o.forEach((function(t){r.get(t).forEach((function(i){var r=t instanceof window.SVGElement,o=a.get(t),d=r?0:parseFloat(o.paddingTop),f=r?0:parseFloat(o.paddingRight),l=r?0:parseFloat(o.paddingBottom),u=r?0:parseFloat(o.paddingLeft),g=r?0:parseFloat(o.borderTopWidth),m=r?0:parseFloat(o.borderRightWidth),w=r?0:parseFloat(o.borderBottomWidth),b=u+f,F=d+l,v=(r?0:parseFloat(o.borderLeftWidth))+m,W=g+w,y=r?0:t.offsetHeight-W-t.clientHeight,E=r?0:t.offsetWidth-v-t.clientWidth,R=b+v,z=F+W,M=r?t.width:parseFloat(o.width)-R-E,O=r?t.height:parseFloat(o.height)-z-y;if(n.has(t)){var k=n.get(t);if(k[0]===M&&k[1]===O)return}n.set(t,[M,O]);var S=Object.create(h.prototype);S.target=t,S.contentRect=new c(u,d,M,O),s.has(i)||(s.set(i,[]),p.add(i)),s.get(i).push(S)}))})),p.forEach((function(e){i.get(e).call(e,s.get(e),e)}))}return s.prototype.observe=function(i){if(i instanceof window.Element){r.has(i)||(r.set(i,new Set),o.add(i),a.set(i,window.getComputedStyle(i)));var n=r.get(i);n.has(this)||n.add(this),cancelAnimationFrame(t),t=requestAnimationFrame(d)}},s.prototype.unobserve=function(i){if(i instanceof window.Element&&r.has(i)){var n=r.get(i);n.has(this)&&(n.delete(this),n.size||(r.delete(i),o.delete(i))),n.size||r.delete(i),o.size||cancelAnimationFrame(t)}},A.DOMRectReadOnly=c,A.ResizeObserver=s,A.ResizeObserverEntry=h,A}; // eslint-disable-line\n",
       "mpl.toolbar_items = [[\"Home\", \"Reset original view\", \"fa fa-home icon-home\", \"home\"], [\"Back\", \"Back to previous view\", \"fa fa-arrow-left icon-arrow-left\", \"back\"], [\"Forward\", \"Forward to next view\", \"fa fa-arrow-right icon-arrow-right\", \"forward\"], [\"\", \"\", \"\", \"\"], [\"Pan\", \"Left button pans, Right button zooms\\nx/y fixes axis, CTRL fixes aspect\", \"fa fa-arrows icon-move\", \"pan\"], [\"Zoom\", \"Zoom to rectangle\\nx/y fixes axis\", \"fa fa-square-o icon-check-empty\", \"zoom\"], [\"\", \"\", \"\", \"\"], [\"Download\", \"Download plot\", \"fa fa-floppy-o icon-save\", \"download\"]];\n",
       "\n",
       "mpl.extensions = [\"eps\", \"jpeg\", \"pgf\", \"pdf\", \"png\", \"ps\", \"raw\", \"svg\", \"tif\"];\n",
       "\n",
       "mpl.default_extension = \"png\";/* global mpl */\n",
       "\n",
       "var comm_websocket_adapter = function (comm) {\n",
       "    // Create a \"websocket\"-like object which calls the given IPython comm\n",
       "    // object with the appropriate methods. Currently this is a non binary\n",
       "    // socket, so there is still some room for performance tuning.\n",
       "    var ws = {};\n",
       "\n",
       "    ws.binaryType = comm.kernel.ws.binaryType;\n",
       "    ws.readyState = comm.kernel.ws.readyState;\n",
       "    function updateReadyState(_event) {\n",
       "        if (comm.kernel.ws) {\n",
       "            ws.readyState = comm.kernel.ws.readyState;\n",
       "        } else {\n",
       "            ws.readyState = 3; // Closed state.\n",
       "        }\n",
       "    }\n",
       "    comm.kernel.ws.addEventListener('open', updateReadyState);\n",
       "    comm.kernel.ws.addEventListener('close', updateReadyState);\n",
       "    comm.kernel.ws.addEventListener('error', updateReadyState);\n",
       "\n",
       "    ws.close = function () {\n",
       "        comm.close();\n",
       "    };\n",
       "    ws.send = function (m) {\n",
       "        //console.log('sending', m);\n",
       "        comm.send(m);\n",
       "    };\n",
       "    // Register the callback with on_msg.\n",
       "    comm.on_msg(function (msg) {\n",
       "        //console.log('receiving', msg['content']['data'], msg);\n",
       "        var data = msg['content']['data'];\n",
       "        if (data['blob'] !== undefined) {\n",
       "            data = {\n",
       "                data: new Blob(msg['buffers'], { type: data['blob'] }),\n",
       "            };\n",
       "        }\n",
       "        // Pass the mpl event to the overridden (by mpl) onmessage function.\n",
       "        ws.onmessage(data);\n",
       "    });\n",
       "    return ws;\n",
       "};\n",
       "\n",
       "mpl.mpl_figure_comm = function (comm, msg) {\n",
       "    // This is the function which gets called when the mpl process\n",
       "    // starts-up an IPython Comm through the \"matplotlib\" channel.\n",
       "\n",
       "    var id = msg.content.data.id;\n",
       "    // Get hold of the div created by the display call when the Comm\n",
       "    // socket was opened in Python.\n",
       "    var element = document.getElementById(id);\n",
       "    var ws_proxy = comm_websocket_adapter(comm);\n",
       "\n",
       "    function ondownload(figure, _format) {\n",
       "        window.open(figure.canvas.toDataURL());\n",
       "    }\n",
       "\n",
       "    var fig = new mpl.figure(id, ws_proxy, ondownload, element);\n",
       "\n",
       "    // Call onopen now - mpl needs it, as it is assuming we've passed it a real\n",
       "    // web socket which is closed, not our websocket->open comm proxy.\n",
       "    ws_proxy.onopen();\n",
       "\n",
       "    fig.parent_element = element;\n",
       "    fig.cell_info = mpl.find_output_cell(\"<div id='\" + id + \"'></div>\");\n",
       "    if (!fig.cell_info) {\n",
       "        console.error('Failed to find cell for figure', id, fig);\n",
       "        return;\n",
       "    }\n",
       "    fig.cell_info[0].output_area.element.on(\n",
       "        'cleared',\n",
       "        { fig: fig },\n",
       "        fig._remove_fig_handler\n",
       "    );\n",
       "};\n",
       "\n",
       "mpl.figure.prototype.handle_close = function (fig, msg) {\n",
       "    var width = fig.canvas.width / fig.ratio;\n",
       "    fig.cell_info[0].output_area.element.off(\n",
       "        'cleared',\n",
       "        fig._remove_fig_handler\n",
       "    );\n",
       "    fig.resizeObserverInstance.unobserve(fig.canvas_div);\n",
       "\n",
       "    // Update the output cell to use the data from the current canvas.\n",
       "    fig.push_to_output();\n",
       "    var dataURL = fig.canvas.toDataURL();\n",
       "    // Re-enable the keyboard manager in IPython - without this line, in FF,\n",
       "    // the notebook keyboard shortcuts fail.\n",
       "    IPython.keyboard_manager.enable();\n",
       "    fig.parent_element.innerHTML =\n",
       "        '<img src=\"' + dataURL + '\" width=\"' + width + '\">';\n",
       "    fig.close_ws(fig, msg);\n",
       "};\n",
       "\n",
       "mpl.figure.prototype.close_ws = function (fig, msg) {\n",
       "    fig.send_message('closing', msg);\n",
       "    // fig.ws.close()\n",
       "};\n",
       "\n",
       "mpl.figure.prototype.push_to_output = function (_remove_interactive) {\n",
       "    // Turn the data on the canvas into data in the output cell.\n",
       "    var width = this.canvas.width / this.ratio;\n",
       "    var dataURL = this.canvas.toDataURL();\n",
       "    this.cell_info[1]['text/html'] =\n",
       "        '<img src=\"' + dataURL + '\" width=\"' + width + '\">';\n",
       "};\n",
       "\n",
       "mpl.figure.prototype.updated_canvas_event = function () {\n",
       "    // Tell IPython that the notebook contents must change.\n",
       "    IPython.notebook.set_dirty(true);\n",
       "    this.send_message('ack', {});\n",
       "    var fig = this;\n",
       "    // Wait a second, then push the new image to the DOM so\n",
       "    // that it is saved nicely (might be nice to debounce this).\n",
       "    setTimeout(function () {\n",
       "        fig.push_to_output();\n",
       "    }, 1000);\n",
       "};\n",
       "\n",
       "mpl.figure.prototype._init_toolbar = function () {\n",
       "    var fig = this;\n",
       "\n",
       "    var toolbar = document.createElement('div');\n",
       "    toolbar.classList = 'btn-toolbar';\n",
       "    this.root.appendChild(toolbar);\n",
       "\n",
       "    function on_click_closure(name) {\n",
       "        return function (_event) {\n",
       "            return fig.toolbar_button_onclick(name);\n",
       "        };\n",
       "    }\n",
       "\n",
       "    function on_mouseover_closure(tooltip) {\n",
       "        return function (event) {\n",
       "            if (!event.currentTarget.disabled) {\n",
       "                return fig.toolbar_button_onmouseover(tooltip);\n",
       "            }\n",
       "        };\n",
       "    }\n",
       "\n",
       "    fig.buttons = {};\n",
       "    var buttonGroup = document.createElement('div');\n",
       "    buttonGroup.classList = 'btn-group';\n",
       "    var button;\n",
       "    for (var toolbar_ind in mpl.toolbar_items) {\n",
       "        var name = mpl.toolbar_items[toolbar_ind][0];\n",
       "        var tooltip = mpl.toolbar_items[toolbar_ind][1];\n",
       "        var image = mpl.toolbar_items[toolbar_ind][2];\n",
       "        var method_name = mpl.toolbar_items[toolbar_ind][3];\n",
       "\n",
       "        if (!name) {\n",
       "            /* Instead of a spacer, we start a new button group. */\n",
       "            if (buttonGroup.hasChildNodes()) {\n",
       "                toolbar.appendChild(buttonGroup);\n",
       "            }\n",
       "            buttonGroup = document.createElement('div');\n",
       "            buttonGroup.classList = 'btn-group';\n",
       "            continue;\n",
       "        }\n",
       "\n",
       "        button = fig.buttons[name] = document.createElement('button');\n",
       "        button.classList = 'btn btn-default';\n",
       "        button.href = '#';\n",
       "        button.title = name;\n",
       "        button.innerHTML = '<i class=\"fa ' + image + ' fa-lg\"></i>';\n",
       "        button.addEventListener('click', on_click_closure(method_name));\n",
       "        button.addEventListener('mouseover', on_mouseover_closure(tooltip));\n",
       "        buttonGroup.appendChild(button);\n",
       "    }\n",
       "\n",
       "    if (buttonGroup.hasChildNodes()) {\n",
       "        toolbar.appendChild(buttonGroup);\n",
       "    }\n",
       "\n",
       "    // Add the status bar.\n",
       "    var status_bar = document.createElement('span');\n",
       "    status_bar.classList = 'mpl-message pull-right';\n",
       "    toolbar.appendChild(status_bar);\n",
       "    this.message = status_bar;\n",
       "\n",
       "    // Add the close button to the window.\n",
       "    var buttongrp = document.createElement('div');\n",
       "    buttongrp.classList = 'btn-group inline pull-right';\n",
       "    button = document.createElement('button');\n",
       "    button.classList = 'btn btn-mini btn-primary';\n",
       "    button.href = '#';\n",
       "    button.title = 'Stop Interaction';\n",
       "    button.innerHTML = '<i class=\"fa fa-power-off icon-remove icon-large\"></i>';\n",
       "    button.addEventListener('click', function (_evt) {\n",
       "        fig.handle_close(fig, {});\n",
       "    });\n",
       "    button.addEventListener(\n",
       "        'mouseover',\n",
       "        on_mouseover_closure('Stop Interaction')\n",
       "    );\n",
       "    buttongrp.appendChild(button);\n",
       "    var titlebar = this.root.querySelector('.ui-dialog-titlebar');\n",
       "    titlebar.insertBefore(buttongrp, titlebar.firstChild);\n",
       "};\n",
       "\n",
       "mpl.figure.prototype._remove_fig_handler = function (event) {\n",
       "    var fig = event.data.fig;\n",
       "    if (event.target !== this) {\n",
       "        // Ignore bubbled events from children.\n",
       "        return;\n",
       "    }\n",
       "    fig.close_ws(fig, {});\n",
       "};\n",
       "\n",
       "mpl.figure.prototype._root_extra_style = function (el) {\n",
       "    el.style.boxSizing = 'content-box'; // override notebook setting of border-box.\n",
       "};\n",
       "\n",
       "mpl.figure.prototype._canvas_extra_style = function (el) {\n",
       "    // this is important to make the div 'focusable\n",
       "    el.setAttribute('tabindex', 0);\n",
       "    // reach out to IPython and tell the keyboard manager to turn it's self\n",
       "    // off when our div gets focus\n",
       "\n",
       "    // location in version 3\n",
       "    if (IPython.notebook.keyboard_manager) {\n",
       "        IPython.notebook.keyboard_manager.register_events(el);\n",
       "    } else {\n",
       "        // location in version 2\n",
       "        IPython.keyboard_manager.register_events(el);\n",
       "    }\n",
       "};\n",
       "\n",
       "mpl.figure.prototype._key_event_extra = function (event, _name) {\n",
       "    // Check for shift+enter\n",
       "    if (event.shiftKey && event.which === 13) {\n",
       "        this.canvas_div.blur();\n",
       "        // select the cell after this one\n",
       "        var index = IPython.notebook.find_cell_index(this.cell_info[0]);\n",
       "        IPython.notebook.select(index + 1);\n",
       "    }\n",
       "};\n",
       "\n",
       "mpl.figure.prototype.handle_save = function (fig, _msg) {\n",
       "    fig.ondownload(fig, null);\n",
       "};\n",
       "\n",
       "mpl.find_output_cell = function (html_output) {\n",
       "    // Return the cell and output element which can be found *uniquely* in the notebook.\n",
       "    // Note - this is a bit hacky, but it is done because the \"notebook_saving.Notebook\"\n",
       "    // IPython event is triggered only after the cells have been serialised, which for\n",
       "    // our purposes (turning an active figure into a static one), is too late.\n",
       "    var cells = IPython.notebook.get_cells();\n",
       "    var ncells = cells.length;\n",
       "    for (var i = 0; i < ncells; i++) {\n",
       "        var cell = cells[i];\n",
       "        if (cell.cell_type === 'code') {\n",
       "            for (var j = 0; j < cell.output_area.outputs.length; j++) {\n",
       "                var data = cell.output_area.outputs[j];\n",
       "                if (data.data) {\n",
       "                    // IPython >= 3 moved mimebundle to data attribute of output\n",
       "                    data = data.data;\n",
       "                }\n",
       "                if (data['text/html'] === html_output) {\n",
       "                    return [cell, data, j];\n",
       "                }\n",
       "            }\n",
       "        }\n",
       "    }\n",
       "};\n",
       "\n",
       "// Register the function which deals with the matplotlib target/channel.\n",
       "// The kernel may be null if the page has been refreshed.\n",
       "if (IPython.notebook.kernel !== null) {\n",
       "    IPython.notebook.kernel.comm_manager.register_target(\n",
       "        'matplotlib',\n",
       "        mpl.mpl_figure_comm\n",
       "    );\n",
       "}\n"
      ],
      "text/plain": [
       "<IPython.core.display.Javascript object>"
      ]
     },
     "metadata": {},
     "output_type": "display_data"
    },
    {
     "data": {
      "text/html": [
       "<img src=\"data:image/png;base64,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\" width=\"640\">"
      ],
      "text/plain": [
       "<IPython.core.display.HTML object>"
      ]
     },
     "metadata": {},
     "output_type": "display_data"
    },
    {
     "ename": "TypeError",
     "evalue": "'builtin_function_or_method' object is not subscriptable",
     "output_type": "error",
     "traceback": [
      "\u001b[1;31m---------------------------------------------------------------------------\u001b[0m",
      "\u001b[1;31mTypeError\u001b[0m                                 Traceback (most recent call last)",
      "\u001b[1;32m~\\AppData\\Local\\Temp/ipykernel_3256/3258138404.py\u001b[0m in \u001b[0;36m<module>\u001b[1;34m\u001b[0m\n\u001b[0;32m      9\u001b[0m \u001b[1;33m\u001b[0m\u001b[0m\n\u001b[0;32m     10\u001b[0m \u001b[1;32mfor\u001b[0m \u001b[0me\u001b[0m \u001b[1;32min\u001b[0m \u001b[0mrange\u001b[0m\u001b[1;33m(\u001b[0m\u001b[0mn_episodes\u001b[0m\u001b[1;33m)\u001b[0m\u001b[1;33m:\u001b[0m\u001b[1;33m\u001b[0m\u001b[1;33m\u001b[0m\u001b[0m\n\u001b[1;32m---> 11\u001b[1;33m     \u001b[0mcurrent_state\u001b[0m \u001b[1;33m=\u001b[0m \u001b[0mdiscretize\u001b[0m\u001b[1;33m(\u001b[0m\u001b[0menv\u001b[0m\u001b[1;33m.\u001b[0m\u001b[0mreset\u001b[0m\u001b[1;33m(\u001b[0m\u001b[1;33m)\u001b[0m\u001b[1;33m)\u001b[0m\u001b[1;33m\u001b[0m\u001b[1;33m\u001b[0m\u001b[0m\n\u001b[0m\u001b[0;32m     12\u001b[0m     \u001b[0malpha\u001b[0m \u001b[1;33m=\u001b[0m \u001b[0mget_alpha\u001b[0m\u001b[1;33m(\u001b[0m\u001b[0me\u001b[0m\u001b[1;33m)\u001b[0m\u001b[1;33m\u001b[0m\u001b[1;33m\u001b[0m\u001b[0m\n\u001b[0;32m     13\u001b[0m     \u001b[0mepsilon\u001b[0m \u001b[1;33m=\u001b[0m \u001b[0mget_epsilon\u001b[0m\u001b[1;33m(\u001b[0m\u001b[0me\u001b[0m\u001b[1;33m)\u001b[0m\u001b[1;33m\u001b[0m\u001b[1;33m\u001b[0m\u001b[0m\n",
      "\u001b[1;32m~\\AppData\\Local\\Temp/ipykernel_3256/44092090.py\u001b[0m in \u001b[0;36mdiscretize\u001b[1;34m(obs)\u001b[0m\n\u001b[0;32m      1\u001b[0m \u001b[1;32mdef\u001b[0m \u001b[0mdiscretize\u001b[0m\u001b[1;33m(\u001b[0m\u001b[0mobs\u001b[0m\u001b[1;33m)\u001b[0m\u001b[1;33m:\u001b[0m\u001b[1;33m\u001b[0m\u001b[1;33m\u001b[0m\u001b[0m\n\u001b[1;32m----> 2\u001b[1;33m     \u001b[0mupper_bounds\u001b[0m \u001b[1;33m=\u001b[0m \u001b[1;33m[\u001b[0m\u001b[0menv\u001b[0m\u001b[1;33m.\u001b[0m\u001b[0mobservation_space\u001b[0m\u001b[1;33m.\u001b[0m\u001b[0mhigh\u001b[0m\u001b[1;33m[\u001b[0m\u001b[1;36m0\u001b[0m\u001b[1;33m]\u001b[0m\u001b[1;33m,\u001b[0m \u001b[1;36m0.5\u001b[0m\u001b[1;33m,\u001b[0m \u001b[0menv\u001b[0m\u001b[1;33m.\u001b[0m\u001b[0mobservation_space\u001b[0m\u001b[1;33m.\u001b[0m\u001b[0mhigh\u001b[0m\u001b[1;33m[\u001b[0m\u001b[1;36m2\u001b[0m\u001b[1;33m]\u001b[0m\u001b[1;33m,\u001b[0m \u001b[0mmath\u001b[0m\u001b[1;33m.\u001b[0m\u001b[0mradians\u001b[0m\u001b[1;33m[\u001b[0m\u001b[1;36m50\u001b[0m\u001b[1;33m]\u001b[0m\u001b[1;33m]\u001b[0m\u001b[1;33m\u001b[0m\u001b[1;33m\u001b[0m\u001b[0m\n\u001b[0m\u001b[0;32m      3\u001b[0m     \u001b[0mlower_bounds\u001b[0m \u001b[1;33m=\u001b[0m \u001b[1;33m[\u001b[0m\u001b[0menv\u001b[0m\u001b[1;33m.\u001b[0m\u001b[0mobservation_space\u001b[0m\u001b[1;33m.\u001b[0m\u001b[0mlow\u001b[0m\u001b[1;33m[\u001b[0m\u001b[1;36m0\u001b[0m\u001b[1;33m]\u001b[0m\u001b[1;33m,\u001b[0m \u001b[1;33m-\u001b[0m\u001b[1;36m0.5\u001b[0m\u001b[1;33m,\u001b[0m \u001b[0menv\u001b[0m\u001b[1;33m.\u001b[0m\u001b[0mobservation_space\u001b[0m\u001b[1;33m.\u001b[0m\u001b[0mlow\u001b[0m\u001b[1;33m[\u001b[0m\u001b[1;36m2\u001b[0m\u001b[1;33m]\u001b[0m\u001b[1;33m,\u001b[0m \u001b[1;33m-\u001b[0m\u001b[0mmath\u001b[0m\u001b[1;33m.\u001b[0m\u001b[0mradians\u001b[0m\u001b[1;33m[\u001b[0m\u001b[1;36m50\u001b[0m\u001b[1;33m]\u001b[0m\u001b[1;33m]\u001b[0m\u001b[1;33m\u001b[0m\u001b[1;33m\u001b[0m\u001b[0m\n\u001b[0;32m      4\u001b[0m     \u001b[0mratios\u001b[0m \u001b[1;33m=\u001b[0m \u001b[1;33m[\u001b[0m\u001b[1;33m(\u001b[0m\u001b[0mobs\u001b[0m\u001b[1;33m[\u001b[0m\u001b[0mi\u001b[0m\u001b[1;33m]\u001b[0m\u001b[1;33m+\u001b[0m\u001b[0mabs\u001b[0m\u001b[1;33m(\u001b[0m\u001b[0mlower_bounds\u001b[0m\u001b[1;33m[\u001b[0m\u001b[0mi\u001b[0m\u001b[1;33m]\u001b[0m\u001b[1;33m)\u001b[0m\u001b[1;33m)\u001b[0m\u001b[1;33m/\u001b[0m\u001b[1;33m(\u001b[0m\u001b[0mupper_bounds\u001b[0m\u001b[1;33m[\u001b[0m\u001b[0mi\u001b[0m\u001b[1;33m]\u001b[0m\u001b[1;33m-\u001b[0m\u001b[0mlower_bounds\u001b[0m\u001b[1;33m[\u001b[0m\u001b[0mi\u001b[0m\u001b[1;33m]\u001b[0m\u001b[1;33m)\u001b[0m \u001b[1;32mfor\u001b[0m \u001b[0mi\u001b[0m \u001b[1;32min\u001b[0m \u001b[0mrange\u001b[0m\u001b[1;33m(\u001b[0m\u001b[0mlen\u001b[0m\u001b[1;33m(\u001b[0m\u001b[0mobs\u001b[0m\u001b[1;33m)\u001b[0m\u001b[1;33m)\u001b[0m\u001b[1;33m]\u001b[0m\u001b[1;33m\u001b[0m\u001b[1;33m\u001b[0m\u001b[0m\n\u001b[0;32m      5\u001b[0m     \u001b[0mnew_obs\u001b[0m \u001b[1;33m=\u001b[0m \u001b[1;33m[\u001b[0m\u001b[0mint\u001b[0m\u001b[1;33m(\u001b[0m\u001b[0mround\u001b[0m\u001b[1;33m(\u001b[0m\u001b[1;33m(\u001b[0m\u001b[0mbuckets\u001b[0m\u001b[1;33m[\u001b[0m\u001b[0mi\u001b[0m\u001b[1;33m]\u001b[0m\u001b[1;33m-\u001b[0m\u001b[1;36m1\u001b[0m\u001b[1;33m)\u001b[0m\u001b[1;33m*\u001b[0m\u001b[0mratios\u001b[0m\u001b[1;33m[\u001b[0m\u001b[0mi\u001b[0m\u001b[1;33m]\u001b[0m\u001b[1;33m)\u001b[0m\u001b[1;33m)\u001b[0m \u001b[1;32mfor\u001b[0m \u001b[0mi\u001b[0m \u001b[1;32min\u001b[0m \u001b[0mrange\u001b[0m\u001b[1;33m(\u001b[0m\u001b[0mlen\u001b[0m\u001b[1;33m(\u001b[0m\u001b[0mobs\u001b[0m\u001b[1;33m)\u001b[0m\u001b[1;33m)\u001b[0m\u001b[1;33m]\u001b[0m\u001b[1;33m\u001b[0m\u001b[1;33m\u001b[0m\u001b[0m\n",
      "\u001b[1;31mTypeError\u001b[0m: 'builtin_function_or_method' object is not subscriptable"
     ]
    }
   ],
   "source": [
    "y_chart = []\n",
    "x_chart = []\n",
    "plt.figure(100)\n",
    "plt.xlim((0,210))\n",
    "plt.ylim((0,210))\n",
    "plt.title('Episode Score for Each Episode')\n",
    "plt.ylabel('Score')\n",
    "plt.xlabel('Episode')\n",
    "\n",
    "for e in range(n_episodes):\n",
    "    current_state = discretize(env.reset())\n",
    "    alpha = get_alpha(e)\n",
    "    epsilon = get_epsilon(e)\n",
    "    done = False\n",
    "    i = 0\n",
    "    total_reward = 0\n",
    "    while not done:\n",
    "        env.render()\n",
    "        action = choose_action(current_state, epsilon)\n",
    "        obs, reward, done, _=env.step(action)\n",
    "        new_state = discretize(obs)\n",
    "        update_q(current_state, action, reward, new_statew_state, alpha)\n",
    "        current_state = new_state\n",
    "        i += 1\n",
    "        total_reward += reward\n",
    "        y_chart.append(total_reward)\n",
    "        x_chart.append(e)\n",
    "        plt.plot(x_chart, y_chart, color='blue')\n",
    "        plt.show()\n",
    "        plt.pause(0.01)\n",
    "    env.close()"
   ]
  },
  {
   "cell_type": "code",
   "execution_count": null,
   "id": "5790364a",
   "metadata": {},
   "outputs": [],
   "source": []
  }
 ],
 "metadata": {
  "kernelspec": {
   "display_name": "Python 3 (ipykernel)",
   "language": "python",
   "name": "python3"
  },
  "language_info": {
   "codemirror_mode": {
    "name": "ipython",
    "version": 3
   },
   "file_extension": ".py",
   "mimetype": "text/x-python",
   "name": "python",
   "nbconvert_exporter": "python",
   "pygments_lexer": "ipython3",
   "version": "3.9.7"
  }
 },
 "nbformat": 4,
 "nbformat_minor": 5
}
