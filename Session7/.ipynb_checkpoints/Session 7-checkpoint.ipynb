{
 "cells": [
  {
   "cell_type": "markdown",
   "id": "6a53c3b7",
   "metadata": {},
   "source": [
    "# 1 Importing required libraries"
   ]
  },
  {
   "cell_type": "code",
   "execution_count": 1,
   "id": "582c0cbe",
   "metadata": {},
   "outputs": [],
   "source": [
    "import numpy as np\n",
    "import pandas as pd\n",
    "import matplotlib.pyplot as plt"
   ]
  },
  {
   "cell_type": "markdown",
   "id": "f18a6d2a",
   "metadata": {},
   "source": [
    "# 2 Manual fitting of a Gaussian Mixed Model (GMM)"
   ]
  },
  {
   "cell_type": "markdown",
   "id": "6cb7b91e",
   "metadata": {},
   "source": [
    "## 2.1 Loading the source data"
   ]
  },
  {
   "cell_type": "code",
   "execution_count": 2,
   "id": "a48e6492",
   "metadata": {},
   "outputs": [
    {
     "data": {
      "text/html": [
       "<div>\n",
       "<style scoped>\n",
       "    .dataframe tbody tr th:only-of-type {\n",
       "        vertical-align: middle;\n",
       "    }\n",
       "\n",
       "    .dataframe tbody tr th {\n",
       "        vertical-align: top;\n",
       "    }\n",
       "\n",
       "    .dataframe thead th {\n",
       "        text-align: right;\n",
       "    }\n",
       "</style>\n",
       "<table border=\"1\" class=\"dataframe\">\n",
       "  <thead>\n",
       "    <tr style=\"text-align: right;\">\n",
       "      <th></th>\n",
       "      <th>The_Data</th>\n",
       "    </tr>\n",
       "  </thead>\n",
       "  <tbody>\n",
       "    <tr>\n",
       "      <th>0</th>\n",
       "      <td>113.56</td>\n",
       "    </tr>\n",
       "    <tr>\n",
       "      <th>1</th>\n",
       "      <td>61.05</td>\n",
       "    </tr>\n",
       "    <tr>\n",
       "      <th>2</th>\n",
       "      <td>37.02</td>\n",
       "    </tr>\n",
       "    <tr>\n",
       "      <th>3</th>\n",
       "      <td>108.99</td>\n",
       "    </tr>\n",
       "    <tr>\n",
       "      <th>4</th>\n",
       "      <td>110.36</td>\n",
       "    </tr>\n",
       "    <tr>\n",
       "      <th>...</th>\n",
       "      <td>...</td>\n",
       "    </tr>\n",
       "    <tr>\n",
       "      <th>977</th>\n",
       "      <td>117.43</td>\n",
       "    </tr>\n",
       "    <tr>\n",
       "      <th>978</th>\n",
       "      <td>64.23</td>\n",
       "    </tr>\n",
       "    <tr>\n",
       "      <th>979</th>\n",
       "      <td>107.29</td>\n",
       "    </tr>\n",
       "    <tr>\n",
       "      <th>980</th>\n",
       "      <td>117.62</td>\n",
       "    </tr>\n",
       "    <tr>\n",
       "      <th>981</th>\n",
       "      <td>105.64</td>\n",
       "    </tr>\n",
       "  </tbody>\n",
       "</table>\n",
       "<p>982 rows × 1 columns</p>\n",
       "</div>"
      ],
      "text/plain": [
       "     The_Data\n",
       "0      113.56\n",
       "1       61.05\n",
       "2       37.02\n",
       "3      108.99\n",
       "4      110.36\n",
       "..        ...\n",
       "977    117.43\n",
       "978     64.23\n",
       "979    107.29\n",
       "980    117.62\n",
       "981    105.64\n",
       "\n",
       "[982 rows x 1 columns]"
      ]
     },
     "execution_count": 2,
     "metadata": {},
     "output_type": "execute_result"
    }
   ],
   "source": [
    "mixed_population = pd.read_csv(\"Mixed population Data.csv\")\n",
    "mixed_population"
   ]
  },
  {
   "cell_type": "code",
   "execution_count": 3,
   "id": "8bdfd45e",
   "metadata": {},
   "outputs": [
    {
     "data": {
      "image/png": "[encoded data removed]",
      "text/plain": [
       "<Figure size 576x360 with 1 Axes>"
      ]
     },
     "metadata": {
      "needs_background": "light"
     },
     "output_type": "display_data"
    }
   ],
   "source": [
    "# Make regular histogram\n",
    "fig, ax = plt.subplots(nrows=1, ncols=1, figsize=[8,5])\n",
    "ax.hist(mixed_population, bins=50, density=True, alpha=0.5, color=\"#0070FF\")\n",
    "\n",
    "# Annotate diagram\n",
    "ax.set_ylabel(\"Probability density\")\n",
    "ax.set_xlabel(\"Arbitrary units\")\n",
    "\n",
    "# Draw legend\n",
    "plt.show()"
   ]
  },
  {
   "cell_type": "markdown",
   "id": "0601315a",
   "metadata": {},
   "source": [
    "## 2.2 Generating some data which we can use to experiment with fitting"
   ]
  },
  {
   "cell_type": "markdown",
   "id": "eab602b9",
   "metadata": {},
   "source": [
    "### 2.2.1 Data for the first population - a Gaussian ('Normal') Distribution"
   ]
  },
  {
   "cell_type": "code",
   "execution_count": 4,
   "id": "7addcf13",
   "metadata": {},
   "outputs": [],
   "source": [
    "sample_mean = -5.0\n",
    "sample_sd = 0.7\n",
    "number_of_samples = 2000"
   ]
  },
  {
   "cell_type": "code",
   "execution_count": 5,
   "id": "f2a9052e",
   "metadata": {},
   "outputs": [],
   "source": [
    "samples = np.random.normal(sample_mean, sample_sd, number_of_samples)"
   ]
  },
  {
   "cell_type": "code",
   "execution_count": 6,
   "id": "1baf3283",
   "metadata": {},
   "outputs": [],
   "source": [
    "samples = np.random.normal(-0.5, 0.7, 2000)"
   ]
  },
  {
   "cell_type": "markdown",
   "id": "d196efe8",
   "metadata": {},
   "source": [
    "### 2.2.2 Visualing the first population"
   ]
  },
  {
   "cell_type": "code",
   "execution_count": 7,
   "id": "bac3460f",
   "metadata": {},
   "outputs": [
    {
     "data": {
      "image/png": "[encoded data removed]",
      "text/plain": [
       "<Figure size 576x360 with 1 Axes>"
      ]
     },
     "metadata": {
      "needs_background": "light"
     },
     "output_type": "display_data"
    }
   ],
   "source": [
    "fig, ax = plt.subplots(nrows=1, ncols=1, figsize=[8,5])\n",
    "ax.hist(samples, bins=50, density=True, alpha=0.5, color=\"#0070FF\")\n",
    "ax.set_ylabel(\"Probability density\")\n",
    "ax.set_xlabel(\"Arbitrary units\")\n",
    "plt.show()"
   ]
  },
  {
   "cell_type": "markdown",
   "id": "678d212d",
   "metadata": {},
   "source": [
    "### 2.2.3 Adding a second population"
   ]
  },
  {
   "cell_type": "code",
   "execution_count": 8,
   "id": "43227d47",
   "metadata": {},
   "outputs": [],
   "source": [
    "samples2 = np.random.normal(1, 0.3, 2000)"
   ]
  },
  {
   "cell_type": "code",
   "execution_count": 9,
   "id": "b7eb777d",
   "metadata": {},
   "outputs": [
    {
     "data": {
      "image/png": "[encoded data removed]",
      "text/plain": [
       "<Figure size 576x360 with 1 Axes>"
      ]
     },
     "metadata": {
      "needs_background": "light"
     },
     "output_type": "display_data"
    }
   ],
   "source": [
    "fig, ax = plt.subplots(nrows=1, ncols=1, figsize=[8,5])\n",
    "ax.hist(samples, bins=50, density=True, alpha=0.5, color=\"#0070FF\")\n",
    "ax.hist(samples2, bins=50, density=True, alpha=0.5, color=\"#ff7000\")\n",
    "ax.set_ylabel(\"Probability density\")\n",
    "ax.set_xlabel(\"Arbitrary units\")\n",
    "plt.show()"
   ]
  },
  {
   "cell_type": "code",
   "execution_count": 10,
   "id": "4e9b38c5",
   "metadata": {},
   "outputs": [],
   "source": [
    "combined_samples = np.append(samples, samples2)"
   ]
  },
  {
   "cell_type": "code",
   "execution_count": 11,
   "id": "84588904",
   "metadata": {},
   "outputs": [
    {
     "data": {
      "image/png": "[encoded data removed]",
      "text/plain": [
       "<Figure size 576x360 with 1 Axes>"
      ]
     },
     "metadata": {
      "needs_background": "light"
     },
     "output_type": "display_data"
    }
   ],
   "source": [
    "fig, ax = plt.subplots(nrows=1, ncols=1, figsize=[8,5])\n",
    "ax.hist(combined_samples, bins=50, density=True, alpha=0.5, color=\"#0070FF\")\n",
    "ax.set_ylabel(\"Probability density\")\n",
    "ax.set_xlabel(\"Arbitrary units\")\n",
    "plt.show()"
   ]
  },
  {
   "cell_type": "code",
   "execution_count": 12,
   "id": "76eb8089",
   "metadata": {},
   "outputs": [],
   "source": [
    "samples3 = np.random.normal(-0.5, 0.7, 2000)\n",
    "samples4 = np.random.normal(1, 0.3, 2000)\n",
    "combined_samples2 = np.append(samples3, samples4)"
   ]
  },
  {
   "cell_type": "code",
   "execution_count": 13,
   "id": "e2880278",
   "metadata": {},
   "outputs": [
    {
     "data": {
      "image/png": "[encoded data removed]",
      "text/plain": [
       "<Figure size 576x360 with 1 Axes>"
      ]
     },
     "metadata": {
      "needs_background": "light"
     },
     "output_type": "display_data"
    }
   ],
   "source": [
    "fig, ax = plt.subplots(nrows=1, ncols=1, figsize=[8,5])\n",
    "ax.hist(combined_samples, bins=50, density=True, alpha=0.5, color=\"#0070FF\")\n",
    "ax.hist(combined_samples2, bins=50, density=True, alpha=0.5, color=\"#ff7000\")\n",
    "ax.set_ylabel(\"Probability density\")\n",
    "ax.set_xlabel(\"Arbitrary units\")\n",
    "plt.show()"
   ]
  },
  {
   "cell_type": "markdown",
   "id": "13af311d",
   "metadata": {},
   "source": [
    "# 3 Full algorith for GMM"
   ]
  },
  {
   "cell_type": "code",
   "execution_count": 14,
   "id": "8347e9a6",
   "metadata": {},
   "outputs": [],
   "source": [
    "def norm_dist(data, mean: float, standardDeviation: float):\n",
    "    variance = standardDeviation*standardDeviation\n",
    "    s1 = 1/(np.sqrt(2*np.pi*variance))\n",
    "    s2 = np.exp(-(np.square(data-mean)/(2*variance)))\n",
    "    # print(\"Data =\", data, \"mean\", mean, \"variance\", variance, \"result =\", s1*s2)\n",
    "    return s1*s2"
   ]
  },
  {
   "cell_type": "code",
   "execution_count": 15,
   "id": "9bc8a774",
   "metadata": {},
   "outputs": [
    {
     "data": {
      "text/plain": [
       "0.06475879783294587"
      ]
     },
     "execution_count": 15,
     "metadata": {},
     "output_type": "execute_result"
    }
   ],
   "source": [
    "norm_dist(4,7,2)"
   ]
  },
  {
   "cell_type": "code",
   "execution_count": 16,
   "id": "7c09609a",
   "metadata": {},
   "outputs": [
    {
     "name": "stdout",
     "output_type": "stream",
     "text": [
      "(982, 1)\n"
     ]
    },
    {
     "data": {
      "text/html": [
       "<div>\n",
       "<style scoped>\n",
       "    .dataframe tbody tr th:only-of-type {\n",
       "        vertical-align: middle;\n",
       "    }\n",
       "\n",
       "    .dataframe tbody tr th {\n",
       "        vertical-align: top;\n",
       "    }\n",
       "\n",
       "    .dataframe thead th {\n",
       "        text-align: right;\n",
       "    }\n",
       "</style>\n",
       "<table border=\"1\" class=\"dataframe\">\n",
       "  <thead>\n",
       "    <tr style=\"text-align: right;\">\n",
       "      <th></th>\n",
       "      <th>The_Data</th>\n",
       "    </tr>\n",
       "  </thead>\n",
       "  <tbody>\n",
       "    <tr>\n",
       "      <th>0</th>\n",
       "      <td>113.56</td>\n",
       "    </tr>\n",
       "    <tr>\n",
       "      <th>1</th>\n",
       "      <td>61.05</td>\n",
       "    </tr>\n",
       "    <tr>\n",
       "      <th>2</th>\n",
       "      <td>37.02</td>\n",
       "    </tr>\n",
       "    <tr>\n",
       "      <th>3</th>\n",
       "      <td>108.99</td>\n",
       "    </tr>\n",
       "    <tr>\n",
       "      <th>4</th>\n",
       "      <td>110.36</td>\n",
       "    </tr>\n",
       "    <tr>\n",
       "      <th>...</th>\n",
       "      <td>...</td>\n",
       "    </tr>\n",
       "    <tr>\n",
       "      <th>977</th>\n",
       "      <td>117.43</td>\n",
       "    </tr>\n",
       "    <tr>\n",
       "      <th>978</th>\n",
       "      <td>64.23</td>\n",
       "    </tr>\n",
       "    <tr>\n",
       "      <th>979</th>\n",
       "      <td>107.29</td>\n",
       "    </tr>\n",
       "    <tr>\n",
       "      <th>980</th>\n",
       "      <td>117.62</td>\n",
       "    </tr>\n",
       "    <tr>\n",
       "      <th>981</th>\n",
       "      <td>105.64</td>\n",
       "    </tr>\n",
       "  </tbody>\n",
       "</table>\n",
       "<p>982 rows × 1 columns</p>\n",
       "</div>"
      ],
      "text/plain": [
       "     The_Data\n",
       "0      113.56\n",
       "1       61.05\n",
       "2       37.02\n",
       "3      108.99\n",
       "4      110.36\n",
       "..        ...\n",
       "977    117.43\n",
       "978     64.23\n",
       "979    107.29\n",
       "980    117.62\n",
       "981    105.64\n",
       "\n",
       "[982 rows x 1 columns]"
      ]
     },
     "execution_count": 16,
     "metadata": {},
     "output_type": "execute_result"
    }
   ],
   "source": [
    "X = np.array(mixed_population)\n",
    "print(X.shape)\n",
    "mixed_population"
   ]
  },
  {
   "cell_type": "code",
   "execution_count": 17,
   "id": "ff266099",
   "metadata": {},
   "outputs": [
    {
     "data": {
      "text/plain": [
       "array([113.56,  61.05,  37.02, 108.99, 110.36,  20.46,  50.6 , 110.84,\n",
       "       119.3 , 126.4 ,  60.62,  43.03,  44.53,  57.31, 109.69,  49.98,\n",
       "       123.99,  51.74,  95.64, 117.04,  67.17,  73.18,  54.54, 105.58,\n",
       "        68.37,  46.94, 126.03,  57.11,  44.58,  36.73,  81.87,  90.53,\n",
       "        10.91, 114.26,  31.25, 125.95,  72.71,  94.87, 111.87, 108.7 ,\n",
       "       119.55,  60.99, 120.37,  51.16, 130.6 , 116.31, 111.56,  53.35,\n",
       "        96.24,  99.26,  60.58,  62.41,  84.76, 101.79,  36.97,  82.28,\n",
       "        88.78, 107.09,  64.63,  30.82,  82.76,  95.46,  96.6 ,  79.12,\n",
       "        77.88, 119.09,  46.4 , 109.2 ,  12.43,  93.48,  53.55, 122.41,\n",
       "        86.67, 117.03,  56.26,  49.12, 118.77,  15.1 ,  97.37,  64.66,\n",
       "        68.74, 115.21,  42.58, 119.64,  16.78, 121.04,  43.69, 119.76,\n",
       "       107.2 , 127.1 , 109.19, 122.66, 127.33,  72.57,  89.8 , 110.61,\n",
       "        54.06,  24.64,  95.21, 124.76,  60.08, 104.07, 109.92, 119.  ,\n",
       "        95.34, 107.51,  55.95,  27.97,  96.41, 123.59,  49.27, 117.07,\n",
       "       126.55, 115.24, 116.1 , 114.01,  -5.15, 117.32,  69.65,  42.9 ,\n",
       "        31.64, 106.28, 126.47,  81.98, 118.66,  96.34,  56.89, 113.58,\n",
       "       109.93, 111.38,  91.49, 102.83, 123.66,  53.24,  48.32,  55.87,\n",
       "       107.47,  45.05,  24.48, 122.21, 115.66, 132.59,  38.06,  98.23,\n",
       "       128.14, 130.64, 131.81, 108.93,  25.35,  61.46,  66.6 , 130.03,\n",
       "       124.78, 104.24, 125.2 ,  50.98,  64.89, 113.12,  72.47, 127.24,\n",
       "       125.73,  72.1 ,  28.01,  98.49,  55.57,  90.43,  37.85,  90.35,\n",
       "        23.48, 116.07,  32.96, 111.93,  -2.68, 112.72, 130.88,  46.44,\n",
       "        60.82,  63.59,  34.55,  33.98,  47.27,  15.14,  80.28,  76.68,\n",
       "        50.64, 107.36,  15.99,  70.76,  87.64,  92.52,  61.46,  45.02,\n",
       "       119.73,  79.87,  52.05,  94.47, 109.71,  90.09,  33.4 ,  64.91,\n",
       "        26.43, 115.34,  88.64,  62.46,  83.76, 104.22,  37.86,  49.3 ,\n",
       "        29.02,  42.26,  40.04,  39.68,  90.33, 128.45, 107.27,  96.07,\n",
       "        12.78, 108.35,  38.52, 117.3 ,  31.97,  36.37,  36.08,  31.66,\n",
       "       111.27,  66.04,  86.97,  68.1 ,  45.88, 128.82,  67.15,  39.6 ,\n",
       "        39.53,  24.35,  44.83,  99.51,  61.34,  20.87,  90.97,  99.61,\n",
       "       105.57,  36.69, 103.95,  65.95, 124.23,  70.91,  35.12,  35.43,\n",
       "        51.19,  48.63,  53.11,  84.61,   0.48,  92.58,  79.43, 115.16,\n",
       "        98.38, 125.71, 118.52, 122.31, 117.98,  18.57,  83.41,  69.9 ,\n",
       "        46.56, 121.06, 103.7 ,  24.81,  37.54, 138.11,  97.83, 114.71,\n",
       "        54.43,  68.35, 113.11, 104.5 ,  60.92,  34.34, 102.63,  41.87,\n",
       "        96.56,  71.58,  14.  , 122.73,  32.62, 110.45,  91.77, 122.08,\n",
       "       115.14, 123.34, 112.29,  90.51,  79.67,  49.29,  89.97,  37.01,\n",
       "       113.22, 144.78, 109.39,  73.42, 106.5 ,  68.13,  66.24,  81.18,\n",
       "       117.72, 123.66,  24.8 , 103.37, 114.41,  99.93,  31.73,  38.82,\n",
       "        91.96,  54.64,  82.54,  61.46,  94.64, 107.65,  50.83, 109.66,\n",
       "       116.1 , 128.03,  95.14, 103.11, 120.36,  38.46,  32.24, 128.26,\n",
       "        35.96,  64.76,  48.56,  64.88, 100.92, 111.23,  96.25,  59.34,\n",
       "        32.64, 128.31,  57.05,  37.23,  50.58, 127.64, 105.14,  66.09,\n",
       "       121.99,  63.86,  70.4 ,  89.81,  39.45, 121.66, 101.45, 133.24,\n",
       "        41.94, 128.11,  95.21,  54.  , 102.92, 121.72,  40.43,  39.78,\n",
       "       112.61, 118.53,  98.66, 103.  , 111.77,  57.43,  46.14,  28.77,\n",
       "       102.72,  49.03,  25.98,  48.66,  55.79,  25.74,  72.94,  49.07,\n",
       "        72.88, 131.69,  40.51, 113.11,  96.62, 111.43,  40.72, 128.05,\n",
       "       117.29,  34.09, 134.25, 113.42,  97.14,  51.53, 128.91,  49.52,\n",
       "       126.5 ,  81.81, 110.73, 114.14, 109.51, 101.03,  37.19, 131.75,\n",
       "        50.26, 104.42, 119.8 ,  96.13,  94.3 , 113.49, 115.95,  96.93,\n",
       "        42.29,  43.5 ,  37.99, 117.78, 124.31,  92.08, 137.64, 101.58,\n",
       "        38.29,  14.61, 110.09,  54.94, 127.97,  50.64,  64.73, 121.19,\n",
       "        70.53,  66.8 , 104.14, 123.38,  90.49,  81.39, 110.14, 109.94,\n",
       "       118.77,  54.03,  51.63, 113.27,  45.01,  86.62, 115.39,  62.78,\n",
       "       103.68,  48.97, 101.65,  19.72,  55.8 , 119.46, 104.49,  63.61,\n",
       "        74.78, 110.89, 129.17,  32.1 , 124.09, 112.77,  56.5 , 106.96,\n",
       "         7.27, 104.8 ,  33.29,  66.77,  49.29, 108.24,  90.62,  76.77,\n",
       "       104.25,  61.02, 120.12,  53.85, 116.71, 122.17, 108.56,   5.75,\n",
       "        98.87, 102.75,  62.98,  91.27,  60.  ,  27.13,  22.44,  44.71,\n",
       "        92.19,  10.54, 101.57,  72.63, 112.53, 124.54,  98.83,  55.54,\n",
       "       118.48,  28.43, 103.07,  35.13,  52.1 ,  56.53,  71.11,  32.29,\n",
       "        62.24,  66.63, 105.38,  88.78,  55.51,  31.92,  29.15,  20.38,\n",
       "       110.27, 122.03,  55.98,  47.  ,  64.47,  57.2 ,  49.14,  99.4 ,\n",
       "       108.9 , 107.84,  58.9 ,  43.54, 116.63,  88.07, 125.42,  67.45,\n",
       "        29.18, 110.84,  33.05,  43.93,  98.83, 117.44, 114.66,  92.1 ,\n",
       "       117.77, 111.42,  28.02,  61.64, 105.49,  95.75, 100.55,  77.93,\n",
       "       116.43,  64.46, 104.88, 117.9 ,  42.12,  90.7 , 128.55,  33.94,\n",
       "        50.37,  56.  ,  37.75, 104.53, 102.41, 134.8 ,  80.8 ,  22.2 ,\n",
       "       113.97,  40.61, 109.63,  15.07,  99.29, 114.72,  66.78,  53.23,\n",
       "       130.5 ,  42.39,  45.5 ,  58.57,  83.53,  24.87, 104.93,  60.83,\n",
       "       134.7 , 110.24,  50.33, 108.67, 123.32, 112.49,  36.67, 133.57,\n",
       "       102.69,  32.21, 111.28,  53.7 , 101.84,  43.19,  46.72,  96.21,\n",
       "        36.45, 117.85,  27.34, 120.18,  59.25,  96.44, 106.39, 123.27,\n",
       "       101.95, 132.44, 111.03, 120.94,  86.26, 110.55,  50.31, 102.42,\n",
       "        52.77, 125.52, 101.43, 133.07, 120.39,  41.32, 102.52,  39.03,\n",
       "        52.61, 104.97, 114.54,  41.48, 116.78, 121.12,  37.12,  82.55,\n",
       "        56.53,  69.35,  22.71,  79.07, 122.47,  32.24, 110.76,  33.41,\n",
       "        99.62,  72.66,  98.66, 119.1 , 117.38,  63.99, 123.71,  28.1 ,\n",
       "        56.42, 146.67,  95.79,  28.44,  52.41, 134.19,  93.24,  78.89,\n",
       "        45.78,  90.7 , 114.16, 101.46, 121.6 , 141.29,  24.97,  78.71,\n",
       "        50.6 ,  40.95,  60.79,  60.96,  79.06, 110.85,  55.88,  13.29,\n",
       "        98.26, 101.49,  96.09,  91.04, 115.72,  68.05, 130.26,  99.31,\n",
       "       107.48, 115.43,  91.1 ,  79.51,  20.78,  89.86, 121.73,  46.52,\n",
       "        54.38, 110.82,  52.76, 113.37,  57.67,  45.52, 113.29,  35.7 ,\n",
       "        48.54,  70.26, 105.99, 130.55, 124.66,  41.1 , 136.09,  78.69,\n",
       "        22.03, 131.66,  98.98,  32.53, 114.7 ,  40.33, 122.52,  73.64,\n",
       "       123.66,  40.66, 114.57, 124.71,  47.53,  25.44,  42.5 ,  50.09,\n",
       "        98.11,  71.55,  54.9 , 111.14,  89.45, 106.53,  55.98,  69.04,\n",
       "        51.87,  60.2 , 129.83,  23.81, 113.14, 109.29, 114.54, 124.19,\n",
       "        35.57,  86.26, 122.38,  76.82, 119.38,  68.19, 100.36,  43.71,\n",
       "        71.03, 141.54,  44.23,  34.93, 108.52, 117.49,  33.99, 103.37,\n",
       "       109.25,  42.26,  78.69,  80.57,  46.49, 109.11, 103.49,  58.07,\n",
       "        28.94, 125.41,  22.65,  27.71,  30.9 ,  92.17,  61.31, 120.03,\n",
       "        39.48, 128.04, 102.  , 110.97,  88.19,  49.98, 115.48,  93.47,\n",
       "       105.5 ,  63.39,  94.76, 134.55, 112.76,  43.39,  60.87,  64.76,\n",
       "       108.53, 102.17,  49.32, 104.65,  64.02, 103.47,  79.52,  20.55,\n",
       "        51.28,  49.4 , 101.4 ,  82.45, 103.88, 106.46,  86.67, 111.28,\n",
       "        69.22, 109.  ,  78.15, 101.03,  52.28, 123.18,  38.15, 119.98,\n",
       "       102.91, 117.6 ,  28.65, 111.19,  41.49,  50.56,  48.28,  67.75,\n",
       "        57.87, 104.77, 109.43,  60.52,  37.8 ,  37.92,  43.77,  31.72,\n",
       "        54.29, 122.52,  26.89,  44.  ,  93.56,  32.17,  64.55,  76.22,\n",
       "       108.95,  94.23, 135.86,  36.86,  40.45,  78.24,  82.98, 100.62,\n",
       "        31.08,  41.15,  58.15,  49.  ,  91.29,  54.21, 110.66,  68.61,\n",
       "       106.85,  52.56,  72.88,  44.32,  41.26, 137.  ,   6.54,  75.83,\n",
       "        42.7 , 116.26,  56.16,  39.81,  99.  , 113.8 ,  79.44, 137.06,\n",
       "        95.74, 121.08, 128.76,  47.29,  72.57,  54.12, 105.35, 118.21,\n",
       "       111.53,  13.76,  27.13, 101.28,  37.95, 108.75,  43.28,  60.94,\n",
       "        41.17,  21.9 , 147.66, 134.81,  48.08,  32.05, 125.61,  48.09,\n",
       "        40.51,  40.66, 109.27,  38.5 ,  74.45, 121.82,  26.98,  50.79,\n",
       "        72.17,  80.17,  56.96,  45.08,  46.12,  27.23,  52.28,  84.89,\n",
       "       121.73,  69.64,  36.31, 120.27,  98.09,  38.37, 107.57, 122.43,\n",
       "        54.57,  42.87, 103.26, 102.61,  66.12,  31.3 , 130.37,  52.52,\n",
       "        43.08,  90.12, 113.54, 114.26, 105.93,  75.03, 112.18,  55.21,\n",
       "        61.68,  78.93,  42.55,  38.35,  30.  , 115.47, 125.16,  89.28,\n",
       "        44.82, 126.18,  41.52,  71.54, 108.05, 121.56,  95.96,  56.04,\n",
       "        55.77,  55.45,  33.4 ,  92.9 , 115.95,  90.  , 106.02,  98.73,\n",
       "        52.23, 110.1 ,  91.66,  48.59, 102.59, 102.19, 104.51,  51.84,\n",
       "       103.81,  70.22, 132.99, 113.59,  45.15, 113.86,  47.86,  96.41,\n",
       "        66.43, 117.99,  93.88, 114.16, 101.19,  60.53, 107.03,  62.81,\n",
       "        43.81, 117.13,  57.35,  25.22, 108.72,  55.62,  28.41, 106.83,\n",
       "       114.18,  89.47,  78.62, 111.25,  12.7 ,  62.07,  81.49,  54.19,\n",
       "        63.32, 117.43,  64.23, 107.29, 117.62, 105.64])"
      ]
     },
     "execution_count": 17,
     "metadata": {},
     "output_type": "execute_result"
    }
   ],
   "source": [
    "X = mixed_population.to_numpy().flatten()\n",
    "X"
   ]
  },
  {
   "cell_type": "code",
   "execution_count": 18,
   "id": "adb0e10c",
   "metadata": {},
   "outputs": [],
   "source": [
    "k = 2"
   ]
  },
  {
   "cell_type": "code",
   "execution_count": 19,
   "id": "9f2b8d49",
   "metadata": {},
   "outputs": [
    {
     "data": {
      "text/plain": [
       "array([0.5, 0.5])"
      ]
     },
     "execution_count": 19,
     "metadata": {},
     "output_type": "execute_result"
    }
   ],
   "source": [
    "weights = np.ones((k))/k\n",
    "weights"
   ]
  },
  {
   "cell_type": "code",
   "execution_count": 20,
   "id": "af83dbb4",
   "metadata": {},
   "outputs": [],
   "source": [
    "means = np.array([10,30])\n",
    "variances = np.array([1,1])"
   ]
  },
  {
   "cell_type": "code",
   "execution_count": 21,
   "id": "8cea28ee",
   "metadata": {},
   "outputs": [],
   "source": [
    "eps = 1e-8"
   ]
  },
  {
   "cell_type": "code",
   "execution_count": 22,
   "id": "1f1bfe50",
   "metadata": {},
   "outputs": [],
   "source": [
    "iterationCount = 0"
   ]
  },
  {
   "cell_type": "code",
   "execution_count": 23,
   "id": "5c3f0b80",
   "metadata": {},
   "outputs": [
    {
     "name": "stdout",
     "output_type": "stream",
     "text": [
      "Iteration: 1\n",
      "Population: 1\n",
      "    Mean: 12\n",
      "    Standard deviation: 3.0\n",
      "Population: 2\n",
      "    Mean: 30\n",
      "    Standard deviation: 3.1622776601683795\n",
      "weights[i]: [0.015454206748272721, 0.07354043772898025]\n"
     ]
    }
   ],
   "source": [
    "iterationCount = iterationCount+1\n",
    "print(\"Iteration:\", iterationCount)\n",
    "\n",
    "# Initialize the vector of likelihood values\n",
    "likelihood = []\n",
    "\n",
    "# Expectation step\n",
    "for j in range(k):\n",
    "    # print(\"Means[j]\", means[j], \"Standard Deviation\", np.sqrt(variances[j]))\n",
    "    likelihood.append(norm_dist(X, means[j], np.sqrt(variances[j])))\n",
    "likelihood = np.array(likelihood)\n",
    "\n",
    "b = []\n",
    "\n",
    "# Maximization step\n",
    "for j in range(k):\n",
    "    print(\"Population:\", j+1)\n",
    "    # use the current values for the means and standard deviation to compute\n",
    "    # the likelihood that each point would be within that population\n",
    "    b.append((likelihood[j]*weights[j]) / (np.sum([likelihood[i]*weights[i] for i in range(k)], axis=0) + eps))\n",
    "    # update mean and variance\n",
    "    means[j] = np.sum(b[j]*X) / (np.sum(b[j]+eps))\n",
    "    print(\"    Mean:\", means[j])\n",
    "    variances[j] = np.sum(b[j]*np.square(X-means[j])) / (np.sum(b[j]+eps))\n",
    "    print(\"    Standard deviation:\", np.sqrt(variances[j]))\n",
    "    \n",
    "# update the weights\n",
    "for j in range(k):\n",
    "    weights[j] = np.mean(b[j])\n",
    "    \n",
    "print(\"weights[i]:\", [weights[i] for i in range(k)])"
   ]
  },
  {
   "cell_type": "code",
   "execution_count": 24,
   "id": "3f40b2a2",
   "metadata": {},
   "outputs": [],
   "source": [
    "samples = np.random.normal(means[0], np.sqrt(variances[0]), 2000)\n",
    "samples2 = np.random.normal(means[1], np.sqrt(variances[1]), 2000)\n",
    "combined_samples = np.append(samples, samples2)"
   ]
  },
  {
   "cell_type": "code",
   "execution_count": 25,
   "id": "06f99633",
   "metadata": {},
   "outputs": [
    {
     "data": {
      "image/png": "[encoded data removed]",
      "text/plain": [
       "<Figure size 576x360 with 1 Axes>"
      ]
     },
     "metadata": {
      "needs_background": "light"
     },
     "output_type": "display_data"
    }
   ],
   "source": [
    "fig, ax = plt.subplots(nrows=1, ncols=1, figsize=[8,5])\n",
    "ax.hist(mixed_population, bins=50, density=True, alpha=0.5, color=\"#0070FF\")\n",
    "ax.hist(combined_samples, bins=50, density=True, alpha=0.5, color=\"#ff7000\")\n",
    "ax.set_ylabel(\"Probability density\")\n",
    "ax.set_xlabel(\"Arbitrary units\")\n",
    "plt.show()"
   ]
  },
  {
   "cell_type": "markdown",
   "id": "cf80914a",
   "metadata": {},
   "source": [
    "# 4 GMM the easy way - using sklearn"
   ]
  },
  {
   "cell_type": "code",
   "execution_count": 26,
   "id": "4b8db58c",
   "metadata": {},
   "outputs": [],
   "source": [
    "from sklearn.mixture import GaussianMixture"
   ]
  },
  {
   "cell_type": "code",
   "execution_count": 27,
   "id": "1d81bc7d",
   "metadata": {},
   "outputs": [],
   "source": [
    "gmm = GaussianMixture(n_components=2, covariance_type=\"full\", tol=0.001)\n",
    "gmm = gmm.fit(X=mixed_population)"
   ]
  },
  {
   "cell_type": "code",
   "execution_count": 28,
   "id": "2f0508ff",
   "metadata": {},
   "outputs": [
    {
     "name": "stdout",
     "output_type": "stream",
     "text": [
      "[[ 48.85430785]\n",
      " [109.5768361 ]]\n"
     ]
    }
   ],
   "source": [
    "print(gmm.means_)"
   ]
  },
  {
   "cell_type": "code",
   "execution_count": 29,
   "id": "eb07e7d6",
   "metadata": {},
   "outputs": [
    {
     "name": "stdout",
     "output_type": "stream",
     "text": [
      "[[[17.7847952 ]]\n",
      "\n",
      " [[14.07012376]]]\n"
     ]
    }
   ],
   "source": [
    "print(np.sqrt(gmm.covariances_))"
   ]
  },
  {
   "cell_type": "code",
   "execution_count": 30,
   "id": "c7958d8e",
   "metadata": {},
   "outputs": [
    {
     "name": "stdout",
     "output_type": "stream",
     "text": [
      "[0.48271044 0.51728956]\n"
     ]
    }
   ],
   "source": [
    "print(gmm.weights_)"
   ]
  },
  {
   "cell_type": "code",
   "execution_count": 31,
   "id": "9510e4ce",
   "metadata": {},
   "outputs": [],
   "source": [
    "mean_1 = gmm.means_[0].item()\n",
    "mean_2 = gmm.means_[1].item()\n",
    "\n",
    "sd_1 = np.sqrt(gmm.covariances_[0]).item()\n",
    "sd_2 = np.sqrt(gmm.covariances_[1]).item()\n",
    "\n",
    "totalPopulation = 4000\n",
    "\n",
    "weight_1 = int(totalPopulation * gmm.weights_[0].item())\n",
    "weight_2 = int(totalPopulation * gmm.weights_[1].item())"
   ]
  },
  {
   "cell_type": "code",
   "execution_count": 32,
   "id": "ac4a0db4",
   "metadata": {},
   "outputs": [],
   "source": [
    "samples = np.random.normal(mean_1, sd_1, weight_1)\n",
    "samples2 = np.random.normal(mean_2, sd_2, weight_2)"
   ]
  },
  {
   "cell_type": "code",
   "execution_count": 33,
   "id": "b14d8be6",
   "metadata": {},
   "outputs": [],
   "source": [
    "combined_samples = np.append(samples, samples2)"
   ]
  },
  {
   "cell_type": "code",
   "execution_count": 34,
   "id": "b1cefb5d",
   "metadata": {},
   "outputs": [
    {
     "data": {
      "image/png": "[encoded data removed]",
      "text/plain": [
       "<Figure size 576x360 with 1 Axes>"
      ]
     },
     "metadata": {
      "needs_background": "light"
     },
     "output_type": "display_data"
    }
   ],
   "source": [
    "fig, ax = plt.subplots(nrows=1, ncols=1, figsize=[8,5])\n",
    "ax.hist(mixed_population, bins=50, density=True, alpha=0.5, color=\"#0070FF\")\n",
    "ax.hist(combined_samples, bins=50, density=True, alpha=0.5, color=\"#ff7000\")\n",
    "ax.set_ylabel(\"Probability density\")\n",
    "ax.set_xlabel(\"Arbitrary units\")\n",
    "plt.show()"
   ]
  },
  {
   "cell_type": "markdown",
   "id": "ec2e8394",
   "metadata": {},
   "source": [
    "# 5 Optional (but fun!) - Astrophysics example"
   ]
  },
  {
   "cell_type": "code",
   "execution_count": 35,
   "id": "e0ea0292",
   "metadata": {},
   "outputs": [],
   "source": [
    "n_samples = 3000"
   ]
  },
  {
   "cell_type": "code",
   "execution_count": 36,
   "id": "6ae4e3f9",
   "metadata": {},
   "outputs": [],
   "source": [
    "galaxy_1 = np.random.randn(n_samples, 2) + np.array([5,5])"
   ]
  },
  {
   "cell_type": "code",
   "execution_count": 39,
   "id": "27f3af44",
   "metadata": {},
   "outputs": [],
   "source": [
    "C = np.array([[0., -0.7], [3.5, .7]])\n",
    "galaxy_2 = np.dot(np.random.randn(n_samples, 2), C)"
   ]
  },
  {
   "cell_type": "code",
   "execution_count": 40,
   "id": "0845125d",
   "metadata": {},
   "outputs": [],
   "source": [
    "astro_photograph = np.vstack([galaxy_1, galaxy_2])"
   ]
  },
  {
   "cell_type": "code",
   "execution_count": 42,
   "id": "c4202d29",
   "metadata": {},
   "outputs": [
    {
     "data": {
      "text/plain": [
       "<matplotlib.collections.PathCollection at 0x2b303d6cca0>"
      ]
     },
     "execution_count": 42,
     "metadata": {},
     "output_type": "execute_result"
    },
    {
     "data": {
      "image/png": "[encoded data removed]",
      "text/plain": [
       "<Figure size 432x288 with 1 Axes>"
      ]
     },
     "metadata": {
      "needs_background": "light"
     },
     "output_type": "display_data"
    }
   ],
   "source": [
    "ax = plt.axes()\n",
    "ax.set_facecolor(\"black\")\n",
    "plt.scatter(astro_photograph[:, 0], astro_photograph[:, 1], c=\"white\", s=1)"
   ]
  },
  {
   "cell_type": "code",
   "execution_count": 43,
   "id": "5a88e230",
   "metadata": {},
   "outputs": [],
   "source": [
    "gmm = GaussianMixture(n_components=2, covariance_type=\"full\", tol=0.001)\n",
    "gmm = gmm.fit(X=astro_photograph)"
   ]
  },
  {
   "cell_type": "code",
   "execution_count": 44,
   "id": "48a14340",
   "metadata": {},
   "outputs": [
    {
     "name": "stdout",
     "output_type": "stream",
     "text": [
      "Centre of galaxy 1 modelled as [5.01585198 4.99571481]\n",
      "Centre of galaxy 2 modelled as [-0.0100335  -0.00159084]\n"
     ]
    }
   ],
   "source": [
    "galaxy_1_modelled_center = gmm.means_[0]\n",
    "print(\"Centre of galaxy 1 modelled as\", galaxy_1_modelled_center)\n",
    "\n",
    "galaxy_2_modelled_center = gmm.means_[1]\n",
    "print(\"Centre of galaxy 2 modelled as\", galaxy_2_modelled_center)"
   ]
  },
  {
   "cell_type": "code",
   "execution_count": null,
   "id": "d0faf7c2",
   "metadata": {},
   "outputs": [],
   "source": []
  }
 ],
 "metadata": {
  "kernelspec": {
   "display_name": "Python 3 (ipykernel)",
   "language": "python",
   "name": "python3"
  },
  "language_info": {
   "codemirror_mode": {
    "name": "ipython",
    "version": 3
   },
   "file_extension": ".py",
   "mimetype": "text/x-python",
   "name": "python",
   "nbconvert_exporter": "python",
   "pygments_lexer": "ipython3",
   "version": "3.9.7"
  }
 },
 "nbformat": 4,
 "nbformat_minor": 5
}
